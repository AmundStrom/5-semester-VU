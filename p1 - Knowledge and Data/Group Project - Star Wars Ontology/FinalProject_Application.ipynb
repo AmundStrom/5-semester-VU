{
 "cells": [
  {
   "cell_type": "markdown",
   "metadata": {},
   "source": [
    "## KNOWLEDGE AND DATA FINAL PROJECT NOTEBOOK"
   ]
  },
  {
   "cell_type": "code",
   "execution_count": 72,
   "metadata": {},
   "outputs": [],
   "source": [
    "import ipywidgets as widgets\n",
    "from IPython.display import display, clear_output\n",
    "from rdflib import Graph, RDF, Namespace, Literal, URIRef\n",
    "from SPARQLWrapper import SPARQLWrapper, JSON\n",
    "import pandas as pd\n",
    "import matplotlib.pyplot as plt\n",
    "import re\n",
    "from IPython.display import HTML\n"
   ]
  },
  {
   "cell_type": "markdown",
   "metadata": {},
   "source": [
    "### Turtle syntax of the ontology\n",
    "\n",
    "To view turtle version of the ontology please run 'load_graph(g, 'final_project_ontology.ttl')' and 'serialize_graph(g)' from the following code. "
   ]
  },
  {
   "cell_type": "code",
   "execution_count": 73,
   "metadata": {},
   "outputs": [],
   "source": [
    "def load_graph(graph, filename):\n",
    "    with open(filename, 'r') as f:\n",
    "        graph.parse(f, format='turtle')\n",
    "\n",
    "def serialize_graph(myGraph):\n",
    "     print(myGraph.serialize(format='turtle'))\n",
    "\n",
    "g = Graph()\n",
    "#load_graph(g, 'final_project_ontology.ttl') \n",
    "#serialize_graph(g)"
   ]
  },
  {
   "cell_type": "markdown",
   "metadata": {},
   "source": [
    "### Characters from different movies\n",
    "\n",
    "When user selects a movie number, in this case we have nine movies, the instances which has data property for screen time in the chosen movie will be collected from the ontology with SPARQL. \n",
    "- The following function provides users the characters from the chosen movie so the users can select characters to see its analysed data via graphs . \n",
    "- Because eventhough some characters has screen time, they dont have popularity values. In this cases we didnt add those characters into the selection list of user. "
   ]
  },
  {
   "cell_type": "code",
   "execution_count": 74,
   "metadata": {},
   "outputs": [],
   "source": [
    "def fetch_characters_from_movie(movie_number):\n",
    "    sparql = SPARQLWrapper(\"http://127.0.0.1:7200/repositories/KnowledgeAndData\")\n",
    "    sparql.setQuery(f\"\"\"\n",
    "        PREFIX base: <http://www.kandd.org/group43/ontologies/star-wars#>\n",
    "        \n",
    "        SELECT DISTINCT ?character\n",
    "        WHERE {{\n",
    "            ?character ?property ?hasScreenTimeMovie{movie_number} .\n",
    "            ?character base:hasPopularity ?popularity .\n",
    "            FILTER (strstarts(str(?property), \"http://www.kandd.org/group43/ontologies/star-wars#hasScreenTimeMovie{movie_number}\"))\n",
    "        }}\n",
    "    \"\"\")\n",
    "    \n",
    "    sparql.setReturnFormat(JSON)\n",
    "    results = sparql.query().convert()\n",
    "    \n",
    "    characters = [result['character']['value'].split('#')[-1] for result in results['results']['bindings']] #Getting the name from the URI, clearing the name\n",
    "    return characters\n",
    "\n",
    "\n",
    "#fetch_characters_from_movie(1)"
   ]
  },
  {
   "cell_type": "markdown",
   "metadata": {},
   "source": [
    "### Screen times & Popularities \n",
    "After the selection of user, the selected names are used to find screenTime and their popularity with the following function. \n",
    "- This function collects the values of the selected characters and make a table with the values, which is used later to make a graph. "
   ]
  },
  {
   "cell_type": "code",
   "execution_count": 75,
   "metadata": {},
   "outputs": [],
   "source": [
    "def fetch_data_for_character_with_popularity(character_name):\n",
    "    sparql = SPARQLWrapper(\"http://127.0.0.1:7200/repositories/KnowledgeAndData\")\n",
    "    sparql.setQuery(f\"\"\"\n",
    "        PREFIX base: <http://www.kandd.org/group43/ontologies/star-wars#>\n",
    "        \n",
    "        SELECT ?property ?screenTime ?popularity\n",
    "        WHERE {{\n",
    "            base:{character_name} ?property ?screenTime .\n",
    "            base:{character_name} base:hasPopularity ?popularity .\n",
    "            FILTER (strstarts(str(?property), \"http://www.kandd.org/group43/ontologies/star-wars#hasScreenTimeMovie\"))\n",
    "        }}\n",
    "    \"\"\")\n",
    "    \n",
    "    sparql.setReturnFormat(JSON)\n",
    "    results = sparql.query().convert()\n",
    "    df = pd.json_normalize(results['results']['bindings'])\n",
    "\n",
    "    df['property'] = df['property.value']\n",
    "    df['screenTime'] = df['screenTime.value']\n",
    "    df['popularity'] = df['popularity.value'].astype(int)\n",
    "    df = df[['property', 'screenTime', 'popularity']]\n",
    "    \n",
    "    return df\n",
    "\n",
    "#fetch_data_for_character_with_popularity(\"Darth_Vader\")"
   ]
  },
  {
   "cell_type": "markdown",
   "metadata": {},
   "source": [
    "### General information about Selected Characters\n",
    "The purpose of this function is to provide general information about the selected characters for the users. \n",
    "-  The function communicates directly with the DBpedia SPARQL endpoint(in this case the endpoint is \"http://dbpedia.org/sparql\"). This allows to retrieve structured information from DBpedia."
   ]
  },
  {
   "cell_type": "code",
   "execution_count": 76,
   "metadata": {},
   "outputs": [],
   "source": [
    "def fetch_general_info_from_dbpedia(character_name):\n",
    "    sparql = SPARQLWrapper(\"http://dbpedia.org/sparql\")\n",
    "    formatted_name = character_name.replace(\"_\", \" \")  # Convert e.g \"Darth_Vader\" to \"Darth Vader\"\n",
    "    \n",
    "    sparql.setQuery(f\"\"\"\n",
    "        PREFIX rdfs: <http://www.w3.org/2000/01/rdf-schema#>\n",
    "        PREFIX dbo: <http://dbpedia.org/ontology/>\n",
    "\n",
    "        SELECT ?abstract \n",
    "        WHERE {{\n",
    "            ?subject rdfs:label \"{formatted_name}\"@en;\n",
    "                     dbo:abstract ?abstract.\n",
    "            FILTER (lang(?abstract) = 'en')\n",
    "        }}\n",
    "    \"\"\")\n",
    "    \n",
    "    sparql.setReturnFormat(JSON)\n",
    "    results = sparql.query().convert()\n",
    "    \n",
    "    try:\n",
    "        biography = results['results']['bindings'][0]['abstract']['value']\n",
    "        return biography\n",
    "    \n",
    "    except IndexError:\n",
    "        return \"General Information not found for this character.\" #When no abstract found for chosen character\n",
    "\n"
   ]
  },
  {
   "cell_type": "markdown",
   "metadata": {},
   "source": [
    "### FOAF relationships \n",
    "The selected characters' available foaf properties are counting in this funciton. \n",
    "- In this case we considered three important foaf porperties from the ontology. \n",
    "    1. memberOf\n",
    "    2. married \n",
    "    3. knew \n",
    "- After collecting the properties we count them to see how relationship and popularity correlate. "
   ]
  },
  {
   "cell_type": "code",
   "execution_count": 77,
   "metadata": {},
   "outputs": [
    {
     "data": {
      "text/html": [
       "<div>\n",
       "<style scoped>\n",
       "    .dataframe tbody tr th:only-of-type {\n",
       "        vertical-align: middle;\n",
       "    }\n",
       "\n",
       "    .dataframe tbody tr th {\n",
       "        vertical-align: top;\n",
       "    }\n",
       "\n",
       "    .dataframe thead th {\n",
       "        text-align: right;\n",
       "    }\n",
       "</style>\n",
       "<table border=\"1\" class=\"dataframe\">\n",
       "  <thead>\n",
       "    <tr style=\"text-align: right;\">\n",
       "      <th></th>\n",
       "      <th>totalRelations</th>\n",
       "      <th>popularity</th>\n",
       "    </tr>\n",
       "  </thead>\n",
       "  <tbody>\n",
       "    <tr>\n",
       "      <th>0</th>\n",
       "      <td>6</td>\n",
       "      <td>100</td>\n",
       "    </tr>\n",
       "  </tbody>\n",
       "</table>\n",
       "</div>"
      ],
      "text/plain": [
       "   totalRelations  popularity\n",
       "0               6         100"
      ]
     },
     "execution_count": 77,
     "metadata": {},
     "output_type": "execute_result"
    }
   ],
   "source": [
    "def fetch_relationship_counts(character_name):\n",
    "    sparql = SPARQLWrapper(\"http://127.0.0.1:7200/repositories/KnowledgeAndData\")\n",
    "    sparql.setQuery(f\"\"\"\n",
    "        PREFIX base: <http://www.kandd.org/group43/ontologies/star-wars#>\n",
    "        \n",
    "        SELECT \n",
    "            (COUNT(DISTINCT ?memberOfEntity) as ?memberOfCount)\n",
    "            (COUNT(DISTINCT ?marriedEntity) as ?marriedToCount)\n",
    "            (COUNT(DISTINCT ?knewEntity) as ?knowCount)\n",
    "            (SAMPLE(?popularity) as ?sampledPopularity)\n",
    "        WHERE {{\n",
    "            base:{character_name} base:hasPopularity ?popularity .\n",
    "            OPTIONAL {{ base:{character_name} base:memberOf ?memberOfEntity . }}\n",
    "            OPTIONAL {{ base:{character_name} base:married ?marriedEntity . }}\n",
    "            OPTIONAL {{ base:{character_name} base:knew ?knewEntity . }}\n",
    "        }}\n",
    "        GROUP BY ?popularity\n",
    "    \"\"\")\n",
    "    \n",
    "    sparql.setReturnFormat(JSON)\n",
    "    results = sparql.query().convert()\n",
    "    df = pd.json_normalize(results['results']['bindings'])\n",
    "\n",
    "    # Adjusting the default value setting\n",
    "    df['memberOfCount'] = df['memberOfCount.value'].astype(int) if 'memberOfCount.value' in df.columns else 0\n",
    "    df['marriedToCount'] = df['marriedToCount.value'].astype(int) if 'marriedToCount.value' in df.columns else 0\n",
    "    df['knowCount'] = df['knowCount.value'].astype(int) if 'knowCount.value' in df.columns else 0\n",
    "    df['popularity'] = df['sampledPopularity.value'].astype(int) if 'sampledPopularity.value' in df.columns else 0\n",
    "    \n",
    "    df['totalRelations'] = df['memberOfCount'] + df['marriedToCount'] + df['knowCount']\n",
    "    df = df[['totalRelations', 'popularity']]\n",
    "\n",
    "    return df\n",
    "fetch_relationship_counts(\"Darth_Vader\")"
   ]
  },
  {
   "cell_type": "markdown",
   "metadata": {},
   "source": [
    "### Graph of Screen Time vs Popularity \n",
    "This function designs the first graph.\n",
    "\n"
   ]
  },
  {
   "cell_type": "code",
   "execution_count": 78,
   "metadata": {},
   "outputs": [],
   "source": [
    "    \n",
    "def plot_screen_time_vs_popularity_original(df, selected_movie):\n",
    "\n",
    "    \"\"\"\n",
    "        df: A Pandas DataFrame containing the data.\n",
    "        fig: The main container for the plot.\n",
    "        ax: The axis on which data is plotted.\n",
    "        s: Size of the scatter plot points.\n",
    "        c: Color of the scatter plot points.\n",
    "    \n",
    "    \"\"\"\n",
    "    \n",
    "    fig, plot_axes = plt.subplots(figsize=(10,6))  # Always create a new figure and axis\n",
    "\n",
    "    df['screenTime'] = df['screenTime'].astype(float)\n",
    "\n",
    "    plot_axes.scatter(df['screenTime'], df['popularity'], c=df['color'], s=100)\n",
    "    \n",
    "    # This part of the code specify the name and features of the dots on the graph, which represents a character\n",
    "    for i, row in df.iterrows():\n",
    "        plot_axes.annotate(f\"{row['characterName']}\", \n",
    "                     (row['screenTime'], row['popularity']), \n",
    "                     textcoords=\"offset points\", xytext=(0,-15), ha='center', fontsize=8)\n",
    "        \n",
    "    plot_axes.set_title(f'Screen Time vs Popularity in Movie {selected_movie}')\n",
    "\n",
    "    plot_axes.set_xticks(range(0, int(df['screenTime'].max() + 10), 2))  # Ticks for every 2 units\n",
    "\n",
    "    # Because each character has their own popularity value, and each could be very different, \n",
    "    # this part of the code arrange the y-as aaccording to each character.\n",
    "    max_popularity = df['popularity'].max()\n",
    "    if max_popularity in range(1, 50):\n",
    "        plot_axes.set_yticks(range(0,  51 , 5))  # Ticks for every 5 units up to 50\n",
    "        plot_axes.set_ylim(0, 51)\n",
    "\n",
    "    elif max_popularity >= 100:\n",
    "        ylim_top = max_popularity + 10 \n",
    "        plot_axes.set_yticks(range(0,  ylim_top, 5))  \n",
    "        plot_axes.set_ylim(0, ylim_top)\n",
    "\n",
    "    else:\n",
    "        plot_axes.set_ylim(0, 100)\n",
    "\n",
    "\n",
    "    plot_axes.set_xlabel('Screen Time (minutes)', fontsize=12) #Name x-as\n",
    "    plot_axes.set_ylabel('Popularity', fontsize=12) #Name y-as\n",
    "\n",
    "    plot_axes.set_xlim(0, df['screenTime'].max() + 10) # x-as limited value\n",
    "    \n",
    "    plt.tight_layout() \n",
    "    plt.show()\n"
   ]
  },
  {
   "cell_type": "markdown",
   "metadata": {},
   "source": [
    "### Graph Relationship vs Popularity \n",
    "This function designs the second graph.\n"
   ]
  },
  {
   "cell_type": "code",
   "execution_count": 79,
   "metadata": {},
   "outputs": [],
   "source": [
    "\n",
    "def plot_relationship_count_vs_popularity(df,selected_movie ):\n",
    "    \"\"\"Plot total relationships vs popularity\"\"\"\n",
    "\n",
    "    fig, plot_axes = plt.subplots(figsize=(10,6))\n",
    "\n",
    "    plot_axes.scatter(df['totalRelations'], df['popularity'], c=df['color'], s=100)\n",
    "\n",
    "    for i, row in df.iterrows():\n",
    "        plot_axes.annotate(f\"{row['characterName']}\", \n",
    "                     (row['totalRelations'], row['popularity']), \n",
    "                     textcoords=\"offset points\", xytext=(0,-15), ha='center', fontsize=8)\n",
    "\n",
    "    plot_axes.set_title(f'Total Relationships vs Popularity in Movie {selected_movie}')\n",
    "\n",
    "    plot_axes.set_xlabel('Total Relationships', fontsize=12)\n",
    "    plot_axes.set_ylabel('Popularity', fontsize=12)\n",
    "\n",
    "    plot_axes.set_xticks(range(0, 30, 2))  \n",
    "\n",
    "    plot_axes.set_xlim(0, 26)\n",
    "\n",
    "    max_popularity = df['popularity'].max()\n",
    "\n",
    "    if max_popularity in range(1, 50):\n",
    "        plot_axes.set_yticks(range(0,  51 , 5))  # Ticks for every 5 units up to 50\n",
    "        plot_axes.set_ylim(0, 51)\n",
    "\n",
    "    elif max_popularity >= 100:\n",
    "        ylim_top = max_popularity + 10 \n",
    "        plot_axes.set_yticks(range(0,  ylim_top, 5))  # Ticks for every 5 units up to 50\n",
    "        plot_axes.set_ylim(0, ylim_top)\n",
    "\n",
    "    else:\n",
    "        plot_axes.set_ylim(0, 100)\n",
    "    \n",
    "    plt.tight_layout()\n",
    "    plt.show()"
   ]
  },
  {
   "cell_type": "markdown",
   "metadata": {},
   "source": [
    "### Colors of the points \n",
    "We arranged the colors of the points on the graph according to the screen time and total relationchips that characters has. \n",
    "To make it more clear: \n",
    "- Red for high amounts \n",
    "- Yellow for mid amounts \n",
    "- Green for low amounts \n",
    "\n",
    "So to make the graph more readable for the users \n"
   ]
  },
  {
   "cell_type": "code",
   "execution_count": 80,
   "metadata": {},
   "outputs": [],
   "source": [
    "\n",
    "# Get color based on screen time\n",
    "def get_color_screentime(screen_time):\n",
    "\n",
    "    screen_time = float(screen_time)\n",
    "    if screen_time > 40:  # Threshold for high screen time\n",
    "        return 'red'\n",
    "    elif 20 <= screen_time <= 40:  # Thresholds for mid screen time\n",
    "        return 'yellow'\n",
    "    else:\n",
    "        return 'green'  # low screen time\n",
    "    \n",
    "def get_color_relationship(total_relations):\n",
    "    \"\"\"Get color based on total relationships.\"\"\"\n",
    "    if total_relations > 10:  # Threshold for high relationship count\n",
    "        return 'red'\n",
    "    elif 5 <= total_relations <= 10:  # Thresholds for mid relationship count\n",
    "        return 'yellow'\n",
    "    else:\n",
    "        return 'green'  # low relationship count\n"
   ]
  },
  {
   "cell_type": "markdown",
   "metadata": {},
   "source": [
    "### Buttons & Main Function\n",
    "Following codes contains the features of the buttons we used in visualization and the main code which connects each code to run the application.\n",
    "So this has three parts:\n",
    "\n",
    "1. Movie selection. \n",
    "- The program provides a movie selection place for the users, when users select a movie and click on the confirm button they gonna get the characters of that movie. \n",
    "2. Character selection.\n",
    "- After the movie selection part, the program shows a list of characters for users to make their character selection so they can have the visualization. This part can be redo if the user selects some other chars. Everytime a new character is chosen the code removes the old graphs and provides new ones. \n",
    "3. Main function \n",
    "- Connects each and every part of the program and provides a copleted application. \n"
   ]
  },
  {
   "cell_type": "code",
   "execution_count": 81,
   "metadata": {},
   "outputs": [
    {
     "data": {
      "text/html": [
       "<strong>General information of Jango Fett:</strong><br>Jango Fett is a fictional character in the Star Wars franchise, created by George Lucas. He first appeared as an antagonist in the 2002 film Star Wars: Episode II – Attack of the Clones, played by Temuera Morrison. The character is a Mandalorian bounty hunter, regarded as the best mercenary in the galaxy of his era, and the \"father\" of Boba Fett, an unmodified clone of Jango whom he kept as payment for serving as the genetic template of the Galactic Republic's clone army and raised as his son. After Jango's death at the hands of Mace Windu, Boba follows in his father's footsteps, using his father's armor, equipment, and ship, Slave I, to become a successful bounty hunter in his own right. Outside of the films, the character appears in a number of canonical and non-canonical Star Wars works, such as comic books and video games, which depict him as an antihero rather than a villainous figure, and explore his past as both a bounty hunter and Mandalorian warrior. Since the release of Attack of the Clones, Jango Fett has become a popular figure within the Star Wars fanbase, gaining a cult following.<br><hr>"
      ],
      "text/plain": [
       "<IPython.core.display.HTML object>"
      ]
     },
     "metadata": {},
     "output_type": "display_data"
    },
    {
     "data": {
      "text/html": [
       "<strong>General information of Obi-Wan Kenobi:</strong><br>Obi-Wan Kenobi (/ˈoʊbiːˌwɑːn kəˈnoʊbiː/) is a fictional character in the Star Wars franchise. Within the original trilogy, Obi-Wan is a Jedi Master as a supporting character and is portrayed by English actor Alec Guinness. In the later-released prequel trilogy, a younger version of the character serves as one of the two main protagonists, alongside Anakin Skywalker, and is portrayed by Scottish actor Ewan McGregor. In the original trilogy he is introduced as Ben Kenobi, an alias he uses while in hiding from the Empire. He is a mentor to Luke Skywalker, to whom he introduces the ways of the Jedi. After sacrificing himself in a duel against Darth Vader, Obi-Wan guides Luke through the Force in his fight against the Galactic Empire. In the prequel trilogy, set two decades earlier, he is initially a Padawan (apprentice) to Jedi Master Qui-Gon Jinn, and later mentor and friend of Luke's father Anakin, who falls to the dark side of the Force and becomes Vader. The character briefly appears in the sequel trilogy as a disembodied voice, speaking to protagonist Rey. He is frequently featured as a main character in various other Star Wars media, including the streaming television miniseries Obi-Wan Kenobi, in which McGregor reprised the role. Guinness' performance as Obi-Wan in the original Star Wars (1977) earned him a nomination for the Academy Award for Best Supporting Actor, the only acting nomination for a Star Wars film. McGregor's performance as the character in the prequels received praise as well, considered to be among the highlights of the trilogy. Guinness won the Saturn Award for Best Supporting Actor for his performance in A New Hope, while McGregor was nominated for the same category 20 years later for his performance in The Phantom Menace.<br><hr>"
      ],
      "text/plain": [
       "<IPython.core.display.HTML object>"
      ]
     },
     "metadata": {},
     "output_type": "display_data"
    },
    {
     "data": {
      "text/html": [
       "<strong>General information of Yoda:</strong><br>Yoda (/ˈjoʊdə/) is a fictional character in the Star Wars universe, first appearing in the 1980 film The Empire Strikes Back. He is a small, green humanoid alien who is powerful with the Force and is a leading member of the Jedi Order until its near annihilation. In The Empire Strikes Back, Yoda was voiced and puppeteered by Frank Oz, who reprised the role in Return of the Jedi, the prequel trilogy, and the sequel trilogy. Outside of the films, the character has been mainly voiced by Tom Kane, starting with the 2003 Clone Wars animated television series. Yoda is an iconic figure in popular culture due to his distinct pattern of speech and role as a wise mentor. In his first appearance in the original trilogy, Yoda is described as the mentor of Obi-Wan Kenobi, and lives in exile on the swamp planet of Dagobah. He trains Luke Skywalker in the ways of the Force until his death at the age of 900 in Return of the Jedi, though he later returns as a Force spirit. In the prequel trilogy, Yoda leads the Jedi High Council and trains the young generations of Jedi until they are assigned to a master. When the Clone Wars breaks out, he becomes a general in the Galactic Republic's army and leads several legions of clone troopers. Yoda is one of the few Jedi to survive the events of Order 66 at the end of the war, when he battles Emperor Palpatine and is forced to go into hiding. Yoda's spirit appears again in the sequel trilogy, advising an older Luke on his training of Rey.<br><hr>"
      ],
      "text/plain": [
       "<IPython.core.display.HTML object>"
      ]
     },
     "metadata": {},
     "output_type": "display_data"
    },
    {
     "data": {
      "image/png": "[encoded data removed]",
      "text/plain": [
       "<Figure size 1000x600 with 1 Axes>"
      ]
     },
     "metadata": {},
     "output_type": "display_data"
    },
    {
     "data": {
      "image/png": "[encoded data removed]",
      "text/plain": [
       "<Figure size 1000x600 with 1 Axes>"
      ]
     },
     "metadata": {},
     "output_type": "display_data"
    },
    {
     "data": {
      "application/vnd.jupyter.widget-view+json": {
       "model_id": "81167bc8c8c04e21b7e2f36af3bfee3a",
       "version_major": 2,
       "version_minor": 0
      },
      "text/plain": [
       "VBox(children=(Dropdown(description='Select Movie:', index=1, options=(('Star Wars: Episode I - The Phantom Me…"
      ]
     },
     "metadata": {},
     "output_type": "display_data"
    },
    {
     "data": {
      "application/vnd.jupyter.widget-view+json": {
       "model_id": "a9dc01be12344426b50548626bef4fa3",
       "version_major": 2,
       "version_minor": 0
      },
      "text/plain": [
       "VBox(children=(Checkbox(value=True, description='Jango_Fett', indent=False), Checkbox(value=True, description=…"
      ]
     },
     "metadata": {},
     "output_type": "display_data"
    }
   ],
   "source": [
    "#FIRST SELECTION & BUTTON - MOVIE\n",
    "\n",
    "# Movie selection place \n",
    "movie_selector = widgets.Dropdown(\n",
    "    options=[(\"Star Wars: Episode I - The Phantom Menace\", 1),\n",
    "            (\"Star Wars: Episode II - Attack of the Clones\", 2),\n",
    "            (\"Star Wars: Episode III - Revenge of the Sith\", 3),\n",
    "            (\"Star Wars: Episode IV - A New Hope\",4), \n",
    "            (\"Star Wars: Episode V - The Empire Strikes Back\", 5), \n",
    "            (\"Star Wars: Episode VI - Return of the Jedi\",6),\n",
    "            (\"Star Wars: Episode VII - The Force Awakens\", 7),\n",
    "            (\"Star Wars: Episode VIII - The Last Jedi\", 8),\n",
    "            (\"Star Wars: The Rise of Skywalker\",9)],\n",
    "    value=1,\n",
    "    description='Select Movie:'    \n",
    ")\n",
    "\n",
    "# Placeholder for character checkboxes\n",
    "character_checkboxes = []\n",
    "\n",
    "def on_confirm_movie_button_click(button):\n",
    "    global character_checkboxes \n",
    "    \n",
    "    selected_movie = movie_selector.value\n",
    "    characters = fetch_characters_from_movie(selected_movie) #Getting a character from the selected movie \n",
    "    \n",
    "    if characters:\n",
    "\n",
    "        # When user selects new character(s) this clears old checkboxes\n",
    "        for checkbox in character_checkboxes:\n",
    "            checkbox.close()\n",
    "        character_checkboxes.clear()\n",
    "        \n",
    "        # Creates new checkboxes for characters\n",
    "        for character in characters:\n",
    "            checkbox = widgets.Checkbox(value=False, description=character, indent=False)\n",
    "            character_checkboxes.append(checkbox)\n",
    "        \n",
    "        # Add checkboxes to character container\n",
    "        for checkbox in character_checkboxes:\n",
    "            character_container.children = (*character_container.children[:-1], checkbox, confirm_characters_button)\n",
    "        \n",
    "        # Hide the movie container and display the character container\n",
    "        movie_container.layout.display = 'none' #If they want to choose another movie they have to run the cell again. \n",
    "        character_container.layout.display = 'flex'\n",
    "\n",
    "# Button for confirming movie selection\n",
    "confirm_movie_button = widgets.Button(\n",
    "    description=\"Confirm Movie\",\n",
    "    button_style='info'\n",
    ")\n",
    "confirm_movie_button.on_click(on_confirm_movie_button_click)\n",
    "movie_container = widgets.VBox([movie_selector, confirm_movie_button])\n",
    "\n",
    "###############################\n",
    "#SECOND SELECTIONS - CHARACTERS \n",
    "\n",
    "# Function to get selected characters from checkboxes\n",
    "def get_selected_characters():\n",
    "    return [box.description for box in character_checkboxes if box.value]\n",
    "\n",
    "# Adjusting the on_confirm_characters_button_click function to clear old graphs, because we want to give users new graphs each time they select different characters.\n",
    "def on_confirm_characters_button_click(button):\n",
    "    # Clear the current output(old graphs and widgets)\n",
    "    clear_output(wait=True)\n",
    "    \n",
    "    selected_characters = get_selected_characters()\n",
    "    selected_movie = movie_selector.value\n",
    "    \n",
    "    # Once characters are selected, proceed with the main function for plotting\n",
    "    main_with_selected_characters(selected_characters, selected_movie)\n",
    "    \n",
    "    # Re-display the movie and character selection widgets for the new graph\n",
    "    display(movie_container, character_container)\n",
    "\n",
    "# Button to confirm character selection and generate graphs\n",
    "confirm_characters_button = widgets.Button(\n",
    "    description=\"Confirm Characters\",\n",
    "    button_style='success'\n",
    ")\n",
    "confirm_characters_button.on_click(on_confirm_characters_button_click)\n",
    "\n",
    "# Containers \n",
    "character_container = widgets.VBox([*character_checkboxes, confirm_characters_button])\n",
    "character_container.layout.display = 'none'  # Hide initially\n",
    "\n",
    "\n",
    "###############\n",
    "# MAIN FUNCTION\n",
    "def main_with_selected_characters(character_names, selected_movie):\n",
    "    screen_time_data = []\n",
    "    relationship_data = []\n",
    "\n",
    "    for character_name in character_names:\n",
    "        \n",
    "        general_info = fetch_general_info_from_dbpedia(character_name)\n",
    "        display(HTML(f\"<strong>General information of {character_name.replace('_', ' ')}:</strong><br>{general_info}<br><hr>\"))\n",
    "        \n",
    "        # Fetch screen time and relationship data for each character\n",
    "        df_screen_time = fetch_data_for_character_with_popularity(character_name)\n",
    "        df_relationships = fetch_relationship_counts(character_name)\n",
    "        \n",
    "        # if data is available, append to the respective lists \n",
    "        if not df_screen_time.empty:\n",
    "            df_screen_time['characterName'] = character_name\n",
    "            screen_time_data.append(df_screen_time)\n",
    "        if not df_relationships.empty:\n",
    "            df_relationships['characterName'] = character_name\n",
    "            relationship_data.append(df_relationships)\n",
    "\n",
    "  \n",
    "    # Clear and concatenate screen time data\n",
    "    if screen_time_data:\n",
    "        combined_df_screen_time = pd.concat(screen_time_data) #pandas concatenate\n",
    "        combined_df_screen_time = combined_df_screen_time[combined_df_screen_time['property'].str.contains(f\"Movie{selected_movie}\")]\n",
    "        combined_df_screen_time['color'] = combined_df_screen_time['screenTime'].apply(get_color_screentime)  \n",
    "        plot_screen_time_vs_popularity_original(combined_df_screen_time, selected_movie)\n",
    "\n",
    "    # Clear and concatenate relationship data\n",
    "    if relationship_data:\n",
    "        combined_df_relationships = pd.concat(relationship_data)\n",
    "        combined_df_relationships['color'] = combined_df_relationships['totalRelations'].apply(get_color_relationship)\n",
    "        plot_relationship_count_vs_popularity(combined_df_relationships, selected_movie)\n",
    "\n",
    "\n",
    "# Display the widgets\n",
    "display(movie_container, character_container)\n"
   ]
  }
 ],
 "metadata": {
  "kernelspec": {
   "display_name": "da",
   "language": "python",
   "name": "python3"
  },
  "language_info": {
   "codemirror_mode": {
    "name": "ipython",
    "version": 3
   },
   "file_extension": ".py",
   "mimetype": "text/x-python",
   "name": "python",
   "nbconvert_exporter": "python",
   "pygments_lexer": "ipython3",
   "version": "3.11.4"
  },
  "orig_nbformat": 4
 },
 "nbformat": 4,
 "nbformat_minor": 2
}
