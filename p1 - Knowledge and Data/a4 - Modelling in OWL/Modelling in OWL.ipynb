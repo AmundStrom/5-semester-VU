{
 "cells": [
  {
   "cell_type": "markdown",
   "metadata": {},
   "source": [
    "# Knowledge and Data: Practical Assignment 4 \n",
    "## Modelling in OWL "
   ]
  },
  {
   "cell_type": "markdown",
   "metadata": {},
   "source": [
    "- YOUR NAME: Amund Strøm\n",
    "\n",
    "- YOUR VUNetID: ast101\n",
    "\n",
    "*(If you do not provide your NAME and VUNetID we will not accept your submission.)*"
   ]
  },
  {
   "cell_type": "markdown",
   "metadata": {},
   "source": [
    "For this assignment you will be engineering and reasoning over your very own OWL ontology.\n",
    "\n",
    "You are free to choose the domain (subject) of the ontology you are going to build (e.g. on nutritional value, recipes, supermarkets, food safety, health, restaurants, planes, trains and automobiles, developing countries, modern slavery, political parties, refugees, you name it...). Just be creative and choose a domain we have not seen in class yet. \n",
    "\n",
    "We expect extensive answers for this assignment: give a full account of what you did, such that a peer would be able to reproduce your ontology. This means that you must explicitly state the new axioms and that we expect you to motivate your choices (usually 1-3 lines).\n",
    "\n",
    "Note that all notebooks will automatically be checked for plagiarism: while similar answers can be expected, it is not allowed to directly copy the solutions from fellow students or TAs, or from the examples discussed during the lectures. Similarly, sharing your solutions with your peers is not allowed.\n",
    "\n",
    "NB: the use of Python is not allowed for this assignment: if you add a new cell, make sure it is of the type *markdown* (see the pull-down menu at the top).\n",
    "\n",
    "**IMPORTANT: You will have to hand in your ontology (as ttl) together with the notebook**"
   ]
  },
  {
   "cell_type": "markdown",
   "metadata": {},
   "source": [
    "### Learning objectives"
   ]
  },
  {
   "cell_type": "markdown",
   "metadata": {},
   "source": [
    "At the end of this exercise you should be able to build and ontology and to reason over it: \n",
    "1. You will be able to engineer an OWL ontology\n",
    "2. You will be able to conceptualize a (small) domain\n",
    "3. You will be able use conditions and property characteristics\n",
    "4. You will be able to use a reasoner to infer implicit knowledge\n",
    "5. You will be able to work in Protégé\n"
   ]
  },
  {
   "cell_type": "markdown",
   "metadata": {},
   "source": [
    "### Preliminaries\n",
    "\n",
    "There are several tools which can be used to create and edit RDF and OWL files (in addition to your favourite text-based editor). For this assignment we urge you to use the open-source tool [Protégé](https://protege.stanford.edu), which is a stand-alone editor that is very much tailored towards OWL ontology editing.\n",
    "\n",
    "To install Protégé on your system, please take a look at the [installation instructions](https://protegeproject.github.io/protege/installation/).\n",
    " \n",
    "Protégé is a complex tool with many options, only few of which we will need for this assignment. There are various resources available to get you started:\n",
    "\n",
    "- Watch a short [Protégé Screencast Tutorial](https://vimeo.com/183829740) (created by Rinke Hoekstra)\n",
    "- Check out the [Practical Guide To Building OWL Ontologies Using Protégé 5](https://www.researchgate.net/publication/351037551_A_Practical_Guide_to_Building_OWL_Ontologies_Using_Protege_55_and_Plugins) that uses the [Pizza ontology](https://protege.stanford.edu/ontologies/pizza/pizza.owl) to describe how to create ontologies using Protégé.\n",
    "- Check the [Assignment 4 document](https://docs.google.com/document/d/1Dw2winjfr2TJq3r1q6ZRpud9Qn--tq4ioWDqiBdrrzI) containing Tips & Recommendations on how to create ontologies."
   ]
  },
  {
   "cell_type": "markdown",
   "metadata": {},
   "source": [
    "### Task 1 (10 Points) : Creating an empty ontology\n",
    "\n",
    "Create a new empty ontology in Protégé.\n",
    "\n",
    "Be sure to:\n",
    "- Choose your own unique namespace and prefix  (these do not have to exist)\n",
    "- Add metadata in the form of *rdfs:label*, *dc:creator* (http://purl.org/dc/elements/1.1/creator), and *rdfs:comment* annotations.  \n",
    "  Use *rdfs:comment* to describe the domain and target audience of your ontology.\n",
    "\n",
    "Write down the namespace, its prefix, and the metadata that you have added in the textfield below:"
   ]
  },
  {
   "cell_type": "markdown",
   "metadata": {},
   "source": [
    "Namespace: http://www.semanticweb.org/admin/ontologies/2023/8/Esports    \n",
    "Prefix: es:\n",
    "\n",
    "Metadata:\n",
    "rdfs:label Esports  \n",
    "dc:craetor Amund    \n",
    "rdfs:comment Contain metadata about esports in CS:GO, League of Legends and Super Smash Bros. Ultimate"
   ]
  },
  {
   "cell_type": "markdown",
   "metadata": {},
   "source": [
    "### Task 2a (10 Points) : Populating your ontology\n",
    "\n",
    "Populate your ontology such that it contains at least\n",
    "- six classes\n",
    "- four datatype properties\n",
    "- four object properties\n",
    "\n",
    "For **each** class, create **two** example instances:\n",
    "- assert one instance as a member of this class (i.e. using *rdf:type*).\n",
    "- leave the second instance without any type.\n",
    "\n",
    "Your ontology should now have at least 12 instances: six instances with a certain *rdf:type*, and six instances without any *rdf:type*.\n",
    "\n",
    "List and describe the classes and properties that you created in the textfield below, together with their instances. Don't forget to motivate your choices."
   ]
  },
  {
   "cell_type": "markdown",
   "metadata": {},
   "source": [
    "I have chosen to make an ontology about Esports. The classes are the some of the main elements in Esports that must be present to make esports a reality. I have also chosen to only give some properties domain and range. Since if I gave domain and range to every property, everything would be inferred in the correct class and therefore it would be nothing more to inferre. I think this assignemnt is more about showing knowledge and understanding about onotlogies and Protege, not about having the most complex ontology.\n",
    "\n",
    "Class Name: Game    \n",
    "Description: Game that is played in esports   \n",
    "Instances:  CS:GO, LoL\n",
    "- ...\n",
    "\n",
    "Class Name: Tournament  \n",
    "Description: Esport tournament that has been hosted     \n",
    "Instances:  Delfino_maza\n",
    "- ...   \n",
    "\n",
    "Class Name: Team      \n",
    "Description: Esport team     \n",
    "Instances:  \n",
    "- ...   \n",
    "\n",
    "Class Name: League  \n",
    "Description: Orginazation that hostes esports     \n",
    "Instances:  Riot Games\n",
    "- ...   \n",
    "\n",
    "Class Name: Person    \n",
    "Description: A human person      \n",
    "Instances:  Phreak\n",
    "- ...   \n",
    "\n",
    "Class Name: Player    \n",
    "Description: Person that plays in esports     \n",
    "Instances:  olofmeister \n",
    "- ...   \n",
    "\n",
    "Instances without class: ESL_One, Fnatic, Rekkles, SkyJay, SSU, World_Championship\n",
    "\n",
    "...\n",
    "\n",
    "Property Name: competeIn  \n",
    "Description: Something that compete in something    \n",
    "- ... \n",
    "\n",
    "Property Name: Member  \n",
    "Description: A team that has a player as member    \n",
    "Domain es:Team\n",
    "Range: es:Player    \n",
    "- ... \n",
    "\n",
    "Property Name: hostGame  \n",
    "Description: A tournament that host given game    \n",
    "- ... \n",
    "\n",
    "Property Name: organize      \n",
    "Description: A league that organizes a tournament    \n",
    "- ... \n",
    "\n",
    "Property Name: partOfTeam  \n",
    "Description: A player which is part of a team    \n",
    "- ... \n",
    "\n",
    "Property Name: parOfTournament  \n",
    "Description: Something that is part of a tournament    \n",
    "- ... \n",
    "\n",
    "Property Name: playedInTournament  \n",
    "Description: A game that is played in a tournament    \n",
    "- ... \n",
    "\n",
    "Property Name: won  \n",
    "Description: something that won something    \n",
    "- ... \n",
    "\n",
    "Property Name: firstYearHosted  \n",
    "Description: First year a tournament was hoseted    \n",
    "- ... \n",
    "\n",
    "Property Name: foundedIn  \n",
    "Description: Date which something was founded    \n",
    "- ... \n",
    "\n",
    "Property Name: fullName  \n",
    "Description: Fullname of a person   \n",
    "Domain: es:Person    \n",
    "- ... \n",
    "\n",
    "Property Name: Title  \n",
    "Description: Title of a game    \n",
    "- ... \n",
    "\n",
    "..."
   ]
  },
  {
   "cell_type": "markdown",
   "metadata": {},
   "source": [
    "### Task 2b (10 Points) : Asserting properties\n",
    " \n",
    "For *each* instance:\n",
    "- assert at least one datatype property (e.g. ex:instanceA *ex:hasFullName* \"Some Full Name\"). \n",
    "- assert at least one object property, relating instances to each other (e.g.  ex:instanceA *ex:attendsCourse* ex:instanceB) \n",
    "\n",
    "List and describe 4 statements from your ontology, containing 4 different datatype property assertions:"
   ]
  },
  {
   "cell_type": "markdown",
   "metadata": {},
   "source": [
    "- Esport player \"Rekkles\" has fullname \"Carl Martin Erik Larsson\"   \n",
    "es:Rekkles es:hasFullName \"Carl Martin Erik Larsson\"    \n",
    "\n",
    "- The abbriviation LoL has game title \"League of Legends\"   \n",
    "es:LoL es:hasTitle \"League of Legends   \n",
    "\n",
    "- Esport team \"Fnatic\" was founded in 23 July 2004  \n",
    "es:Fnatic es:foundedIn \"23 July 2004\"   \n",
    "\n",
    "- Esport tournament World Championsip was first hoseted in 2011         \n",
    "es:World_Championship es:firstYearHosted 2011"
   ]
  },
  {
   "cell_type": "markdown",
   "metadata": {},
   "source": [
    "List and describe 4 statements from your ontology, containing 4 different object property assertions:"
   ]
  },
  {
   "cell_type": "markdown",
   "metadata": {},
   "source": [
    "- Esport game CS:GO is part of tournament ESL One   \n",
    "es:CS:GO es:partOfTournament es:ESL_One   \n",
    "\n",
    "- Esport trounament Delfino Maza host game \"SSU\"      \n",
    "es:Delfino_Maza es:hostGame es:SSU  \n",
    "\n",
    "- Esport player olofmeister has won tournament ESL One        \n",
    "es:olofmeister es:won es:ESL_One    \n",
    "\n",
    "- Esport commentator Phreak is part of tournament World Championship      \n",
    "es:Phreak es:partOfTournament es:World_championship "
   ]
  },
  {
   "cell_type": "markdown",
   "metadata": {},
   "source": [
    "---\n",
    "### The reasoner\n",
    "\n",
    "The questions following this point make use of Protégé reasoning capabilities, which are available via plugins but which are disabled by default. Install (if necessary) and start the *Pellet* reasoner before you continue with the next question.\n",
    "\n",
    "Refer to page 15 of the [Protégé guide](https://www.researchgate.net/publication/351037551_A_Practical_Guide_to_Building_OWL_Ontologies_Using_Protege_55_and_Plugins) for instructions on how to install and run the reasoner. A version of this guide is also available on the GitHub page of the course.\n",
    "\n",
    "---"
   ]
  },
  {
   "cell_type": "markdown",
   "metadata": {},
   "source": [
    "### Task 3 (10 Points): Reasoning on a basic ontology\n",
    "\n",
    "All assertions that were addded up til now were explicit. Yet, it is certainly possible that your ontology also contains one or more *implicit* assertions, that have emerged from the interactions between the added explicit assertions. \n",
    "\n",
    "Run the reasoner on your yet-basic ontology and write down the inferences occurred (if any) below:"
   ]
  },
  {
   "cell_type": "markdown",
   "metadata": {},
   "source": [
    "- es:Rekkles rdf:type es:Person \n",
    "- es:olofmeister rdf:type es:Player\n",
    "- es:Fnatic rdf:type es:Team"
   ]
  },
  {
   "cell_type": "markdown",
   "metadata": {},
   "source": [
    "Write down the different steps of the reasoning process (ie, what happened when you ran the reasoner. Think in terms of _set theory_, _axioms_, and _inferencing_, amongst others)."
   ]
  },
  {
   "cell_type": "markdown",
   "metadata": {},
   "source": [
    "- The reasoner start by processing the axioms that exists in the ontology. \n",
    "- Use logical reasoning algorithms, which make inferences based on the axioms. This involves drawing logical conclusions from the explicitly stated axioms to derive implicit knowledge.\n",
    "- Create a subsumption hierarchy for the classes described in the ontology. This hierarchy organizes classes into a hierarchical structure where each class is either a subclass or superclass of others.\n",
    "- Categorize individuals (instances) into appropriate classes based on the defined axioms and the derived subsumption hierarchy.\n",
    "- Infer property relationships, including object properties and data properties.\n",
    "- Consistency check to ensure that the ontology does not contain logical contradictions."
   ]
  },
  {
   "cell_type": "markdown",
   "metadata": {},
   "source": [
    "### Task 4a (10 Points): Necessary and sufficient conditions \n",
    "\n",
    "Select two classes from your ontology.  \n",
    "For **both** classes:\n",
    "- add at least one *necessary* **and** one *necessary and sufficient* condition\n",
    "  (e.g. engineers are people who hold an engineering degree, and any person holding an engineering degree is an engineer)\n",
    "- infer class membership of *at least* one instance using each condition \n",
    "  \n",
    "List and describe the four (or more) conditions that you have added (i.e. axioms) in the textfield below. Do not forget to motivate your choices."
   ]
  },
  {
   "cell_type": "markdown",
   "metadata": {},
   "source": [
    "es:Game\n",
    "- Since the class \"es:Game\" is supposed to only contain Esport games, it made sense to make a restriction where the game must be played in a tournament to be considered an esport game.\n",
    "- The *necessary* condtion \"es:Game SubClassOf es:partOfTournament some es:Tournament\".\n",
    "- The *necessary and sufficient* condition is \"es:Game EquivelentTo es:partOfTournament some es:Tournament\". \n",
    "- They are almost the same because I could not figure out a good *necessary* condtion.  \n",
    "- The *necessary and sufficient* condtion was the only one that yielded an inferred class membership.\n",
    "\n",
    "es:Player\n",
    "- Since the class \"es:Player\" is supposed to only contain persons that play/compete in esport, it made sense to make a restriction where the person must be part of a esport team or compete in a esport game.\n",
    "- The *necessary* condtion \"es:Player SubClassOf es:partOfTeam some es:Team\".\n",
    "- The *necessary and sufficient* condition is \"es:Player EquivelentTo es:competeIn some es:Game\"   \n",
    "- The *necessary and sufficient* condtion was the only one that yielded an inferred class membership. I do not understand why the *necessary* condtion did not yeild a result."
   ]
  },
  {
   "cell_type": "markdown",
   "metadata": {},
   "source": [
    "### Task 4b (10 Points): Reasoning over conditions\n",
    "\n",
    "Run the reasoner once again (after having added the conditions).\n",
    "\n",
    "Write down and explain the resulting inferences below."
   ]
  },
  {
   "cell_type": "markdown",
   "metadata": {},
   "source": [
    "The *necessary and sufficient* condition for the class es:Game resulted in the inference \"es:LoL rdfs:type es:Game\". This can be explained in three steps:   \n",
    "- es:LoL es:partOfTournament es:World_Championship  \n",
    "- es:World_Championship rdfs:type es:Tournament\n",
    "- es:Game EquivelentTo es:partOfTournament some es:Tournament   \n",
    "\n",
    "The *necessary* condition for the class es:Games did not yeild any inferences.  \n",
    "\n",
    "The *necessary and sufficient* condition for the class es:Player resulted in the inference \"es:SkyJay rdfs:type es:Player\". This can be explained in three steps:   \n",
    "- es:SkyJay es:competeIn es:SSU\n",
    "- es:SSU rdfs:type es:Game\n",
    "- es:Player EquivelentTo es:competeIn some es:Game  \n",
    "\n",
    "The *necessary* condition for the class es:Player did not yeild any inferences. "
   ]
  },
  {
   "cell_type": "markdown",
   "metadata": {},
   "source": [
    "### Task 5a (10 Points): Property characteristics\n",
    "\n",
    "Add at least **four** different OWL property characteristics.\n",
    "\n",
    "Examples are\n",
    "- transitivity\n",
    "- symmetricity\n",
    "- functionality\n",
    "- (ir)reflexivity\n",
    "- property chain\n",
    "- disjoint properties\n",
    "- etc\n",
    "\n",
    "All four different characteristics can be asserted on one property (or on four different properties).\n",
    "\n",
    "List and describe the four (or more) property characteristics you defined (i.e. axioms) in the textfield below. Do not forget to motivate your choices."
   ]
  },
  {
   "cell_type": "markdown",
   "metadata": {},
   "source": [
    "- Transitive: if individual x is related to individual y, and individual y is related to individual z, then individual x will be related to individual z along the same property.   \n",
    "On property \"competeIn\" since that a tournament compete in a game, and a player compete in a tournament and game\n",
    "\n",
    "- Irreflexive: an individual cannot be related to itself via that property.     \n",
    "On property \"organize\" since something cannot organize itself.\n",
    "\n",
    "- Symmetric: if individual x is related to individual y then individual y must also be related to individual x along the same property.     \n",
    "On property \"won\" since if someone won something, it also means that something was won by someone.\n",
    "\n",
    "- Asymmetric: if individual x is related to individual y then individual y is not related to individual x along the same property.  \n",
    "On property \"partOfTournament\" since something can be part of a tournament, but a tournament cannot be a part of that something.\n",
    "\n",
    "(explenation taken from: http://protegeproject.github.io/protege/views/object-property-characteristics/)"
   ]
  },
  {
   "cell_type": "markdown",
   "metadata": {},
   "source": [
    "### Task 5b (10 Points): Reasoning over properties\n",
    "\n",
    "Run the reasoner once again (after having added the properties).\n",
    "\n",
    "Write down and explain the resulting inferences below."
   ]
  },
  {
   "cell_type": "markdown",
   "metadata": {},
   "source": [
    "- Inferred: es:ESL_One es:won es:olofmeister    \n",
    "Because: Symmetric: es:won, \"es:olofmeister es:won es:ESL_One\"   \n",
    "\n",
    "- Inferred: es:olofmeister es:competeIn es:CS:GO    \n",
    "Beacuse: Transative: es:competeIn, \"es:ESL_One es:competeIn es:CS:GO\", \"es:olofmeister es:competeIn es:ESL_One\""
   ]
  },
  {
   "cell_type": "markdown",
   "metadata": {},
   "source": [
    "### Task 6 (10 Points): Saving your ontology\n",
    "\n",
    "Go over your ontology to ensure that it is consistent and that it meets all requirements as asked through the various questions. Note that there are several [online validators](http://mowl-power.cs.man.ac.uk:8080/validator/) that can help you check your ontology for consistency.\n",
    "\n",
    "Next, export/save your ontology to a file using Turtle as serialization format. Use *save as* to ensure that later modifications won't end up in this file. \n",
    "\n",
    "**Submit this file together with your notebook**"
   ]
  },
  {
   "cell_type": "markdown",
   "metadata": {},
   "source": [
    "### Task 7 (10 Points): An inconsist ontology\n",
    "\n",
    "Add a new axiom to your ontology in such a way that it becomes inconsistent. Note that the added axiom itself *must* be consistent.\n",
    "\n",
    "**IMPORTANT: do not submit this version**\n",
    "\n",
    "List and describe the axiom that you added. Motivate your choice and explain why the ontology became inconsistent."
   ]
  },
  {
   "cell_type": "markdown",
   "metadata": {},
   "source": [
    "The axiom \"es:Delfino_Maza es:partOfTournament es:SSU\" is consistent on its own, but will make the ontology inconsistent. Because the property \"es:partOfTournament\" is asymmetric and there already exists an axiom \"es:SSU es:partOfTournament es:Delfino_Maza\".  \n",
    "  \n",
    "The new axiom does not inherently make sense, because SSU is not a tournament, and therefore the property es:partOfTournament is used wrong. But point being is that it still makes the ontology inconsistent."
   ]
  },
  {
   "cell_type": "markdown",
   "metadata": {},
   "source": [
    "---\n",
    "\n",
    "## Submitting your answers\n",
    "\n",
    "To submit your answers for this assignment, create a zip-file containing both this notebook and your *consistent* ontology (saved during task 6). Name this zip-file **assignment_4_VUnetID.zip** (where VUnetID is of course to be replaced by your personal VUnetID, eg **rss220**), and submit it via Canvas."
   ]
  }
 ],
 "metadata": {
  "kernelspec": {
   "display_name": "Python 3 (ipykernel)",
   "language": "python",
   "name": "python3"
  },
  "language_info": {
   "codemirror_mode": {
    "name": "ipython",
    "version": 3
   },
   "file_extension": ".py",
   "mimetype": "text/x-python",
   "name": "python",
   "nbconvert_exporter": "python",
   "pygments_lexer": "ipython3",
   "version": "3.11.3"
  }
 },
 "nbformat": 4,
 "nbformat_minor": 4
}
