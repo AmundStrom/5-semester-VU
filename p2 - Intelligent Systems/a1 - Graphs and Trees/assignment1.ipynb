{
 "cells": [
  {
   "cell_type": "markdown",
   "metadata": {},
   "source": [
    "# Intelligent Systems 2022: Practical Assignment No 1\n",
    "\n",
    "This is the first assignment for Intelligent Systems. Since we are only starting, we will try to keep it short and will try to get you familiar with some basic data structures and will have a first look at search algorithms.\n",
    "\n",
    "\n",
    "\n",
    "## Graphs, Trees, and a bit of Search"
   ]
  },
  {
   "cell_type": "markdown",
   "metadata": {},
   "source": [
    "Your name: Amund Strøm\n",
    "\n",
    "Your VUNetID: ast101\n",
    "\n",
    "If you do not provide your name and VUNetID we will not accept your submission. \n",
    "\n",
    "### Learning objectives\n",
    "\n",
    "At the end of this exercise you should be able to understand basic ideas on how to represent graphs and trees in python. Furthermore, we will have a look into search algorithms in trees.\n",
    "\n",
    "1. Understanding graph datastructures\n",
    "2. Make small modifications of the code to implement a tree datastructure\n",
    "3. Modify a tree search algorithm\n",
    "\n",
    "### Practicalities\n",
    "\n",
    "Follow this Notebook step-by-step. \n",
    "\n",
    "Of course, you can do the exercises in any Programming Editor of your liking. \n",
    "But you do not have to. Feel free to simply write code in the Notebook. Please use your studentID+Assignment1.ipynb as the name of the Notebook.  \n",
    "\n",
    "Note: Unlike the courses dedicated to programming we will not evaluate the style of the programs. But we will, however, test your programs on other data that we provide, and your program should give the correct output to the test-data as well.\n",
    "\n",
    "As was mentioned, the assignment is graded as pass/fail. To pass you need to have either a full working code or an explanation of what you tried and what didn't work for the tasks that you were unable to complete (you can use multi-line comments or a text cell).\n",
    "\n",
    "## Initialising \n",
    "\n",
    "First, let us make sure the necessary packages are installed, and imported. Run the following code:"
   ]
  },
  {
   "cell_type": "code",
   "execution_count": 29,
   "metadata": {},
   "outputs": [
    {
     "name": "stdout",
     "output_type": "stream",
     "text": [
      "Requirement already satisfied: numpy in c:\\users\\admin\\appdata\\local\\packages\\pythonsoftwarefoundation.python.3.11_qbz5n2kfra8p0\\localcache\\local-packages\\python311\\site-packages (1.26.0)\n",
      "Requirement already satisfied: networkx in c:\\users\\admin\\appdata\\local\\packages\\pythonsoftwarefoundation.python.3.11_qbz5n2kfra8p0\\localcache\\local-packages\\python311\\site-packages (3.2.1)\n",
      "Requirement already satisfied: decorator==5.0.9 in c:\\users\\admin\\appdata\\local\\packages\\pythonsoftwarefoundation.python.3.11_qbz5n2kfra8p0\\localcache\\local-packages\\python311\\site-packages (5.0.9)\n"
     ]
    }
   ],
   "source": [
    "import sys\n",
    "!{sys.executable} -m pip install numpy\n",
    "!{sys.executable} -m pip install networkx\n",
    "!{sys.executable} -m pip install decorator==5.0.9\n",
    "import datetime\n",
    "import numpy as np\n",
    "from numpy import random\n",
    "\n",
    "\n",
    "# This might produce a warning that numpy is already installed. "
   ]
  },
  {
   "cell_type": "markdown",
   "metadata": {},
   "source": [
    "## Representing Graphs in Python\n",
    "\n",
    "\n",
    "\n",
    "<img src=\"graph.png\" width=\"300\"/>\n",
    "\n",
    "\n",
    "### Graph with Dictionaries\n",
    "\n",
    "#### Task 1\n",
    "Represent the graph from the figure as in a Python dictionary and describe your datastructure."
   ]
  },
  {
   "cell_type": "code",
   "execution_count": 30,
   "metadata": {},
   "outputs": [],
   "source": [
    "dict_graph = { \"a\" : [\"b\"],\n",
    "          \"b\" : [\"a\", \"c\", \"d\"],\n",
    "          \"c\" : [\"b\", \"d\", \"e\", \"f\"],\n",
    "          \"d\" : [\"b\", \"c\"],\n",
    "          \"e\" : [\"c\"],\n",
    "          \"f\" : [\"c\"]\n",
    "        }"
   ]
  },
  {
   "cell_type": "code",
   "execution_count": 31,
   "metadata": {},
   "outputs": [],
   "source": [
    "dict_graph_explanation = \"\"\"\n",
    "In the code above we initialized a python dictonary where the six nodes in the graph are represented as keys (a-f).\n",
    "Each key has a value containing the list of connections to other nodes.\n",
    "\"\"\""
   ]
  },
  {
   "cell_type": "markdown",
   "metadata": {},
   "source": [
    "### Graph with Adjacency Matrices\n",
    "\n",
    "As mentioned in the working groups and the 1st working group exercise sheet, you can represent graphs also as adjancency matrices with 0 and 1. This is a standard format for representing graphs that we therefore will also explore practically.\n",
    "\n",
    "\n",
    "#### Task 2\n",
    "Come up with your own adjacency matrix representation for the graph from above in Python.\n",
    "Then describe what you did in a couple of sentences."
   ]
  },
  {
   "cell_type": "code",
   "execution_count": 32,
   "metadata": {},
   "outputs": [],
   "source": [
    "            # a, b, c, d, e, f\n",
    "adj_graph = [[0, 1, 0, 0, 0, 0], # a\n",
    "             [1, 0, 1, 1, 0, 0], # b\n",
    "             [0, 1, 0, 1, 1, 1], # c\n",
    "             [0, 1, 1, 0, 0, 0], # d\n",
    "             [0, 0, 1, 0, 0, 0], # e\n",
    "             [0, 0, 1, 0, 0, 0]  # f\n",
    "]\n",
    "\n",
    "    "
   ]
  },
  {
   "cell_type": "code",
   "execution_count": 33,
   "metadata": {},
   "outputs": [],
   "source": [
    "\n",
    "\n",
    "adj_graph_explanation = \"\"\"\n",
    "The code above is a matrix which is lists within a list, thus creating rows and columns.\n",
    "Each row and column is represented by a comment which tells what node it is. \n",
    "Each row and column describes the connection to other nodes with either a zero (not connected) or one (connected).\n",
    "\"\"\"\n",
    "\n"
   ]
  },
  {
   "cell_type": "markdown",
   "metadata": {},
   "source": [
    "## Representing Trees in Python\n",
    "\n",
    "As for many abstract datastructures, there is many ways on how to represent them in Python. In this tasks, we will have a look at some helpful representations for graphs and trees. \n",
    "There are actually many more that you will encounter throughout your studies, because graphs and trees are maybe the most important data structures in AI and computer science.\n"
   ]
  },
  {
   "cell_type": "markdown",
   "metadata": {},
   "source": [
    "### Binary Trees"
   ]
  },
  {
   "cell_type": "code",
   "execution_count": 34,
   "metadata": {},
   "outputs": [
    {
     "name": "stdout",
     "output_type": "stream",
     "text": [
      "[27 33 15 34 40  5 41 31  4 36 47 20 39 45  8  1 13  2 42 12]\n",
      "27\n",
      "Found 27\n",
      "Found 33\n",
      "Found 15\n",
      "Found 34\n",
      "Found 40\n",
      "Found 5\n",
      "Found 41\n",
      "Found 31\n",
      "Found 4\n",
      "Found 36\n",
      "Found 47\n",
      "Found 20\n",
      "Found 39\n",
      "Found 45\n",
      "Found 8\n",
      "Found 1\n",
      "Found 13\n",
      "Found 2\n",
      "Found 42\n",
      "Found 12\n"
     ]
    }
   ],
   "source": [
    "class Node:\n",
    "    def __init__(self, val):\n",
    "        self.left = None\n",
    "        self.right = None\n",
    "        self.value = val\n",
    "\n",
    "class Tree:\n",
    "    def __init__(self):\n",
    "        self.root = None\n",
    "\n",
    "    def getRoot(self):\n",
    "        return self.root\n",
    "\n",
    "    def add(self, val):\n",
    "        if self.root is None:\n",
    "            self.root = Node(val)\n",
    "        else:\n",
    "            self._add(val, self.root)\n",
    "\n",
    "    def _add(self, val, node):\n",
    "        if val < node.value:\n",
    "            if node.left is not None:\n",
    "                self._add(val, node.left)\n",
    "            else:\n",
    "                node.left = Node(val)\n",
    "        else:\n",
    "            if node.right is not None:\n",
    "                self._add(val, node.right)\n",
    "            else:\n",
    "                node.right = Node(val)\n",
    "\n",
    "    def search(self, v):\n",
    "        \"\"\"\n",
    "        Perform binary search to find the node with the input value\n",
    "        \"\"\"\n",
    "        if self.root is None:\n",
    "            return None\n",
    "        else:\n",
    "            self._search(v, self.root)\n",
    "\n",
    "    \n",
    "    def _search(self, v, node):\n",
    "        if node.value == v:\n",
    "            print(f\"Found {node.value}\")\n",
    "            return node\n",
    "        elif (node.left is not None and node.value > v):\n",
    "            self._search(v, node.left)\n",
    "        elif (node.right is not None and node.value < v):\n",
    "            self._search(v, node.right)\n",
    "        return False # Error\n",
    "        \n",
    "# Initialize datastructure\n",
    "tree = Tree()\n",
    "\n",
    "# Generate list of length 20 with random numbers without duplicates\n",
    "node_values = random.choice(np.arange(1, 50), size=20, replace=False)\n",
    "print(node_values)\n",
    "\n",
    "# Add random list into binary tree\n",
    "for value in node_values:\n",
    "    Tree.add(tree, value)\n",
    "\n",
    "# Get root of tree\n",
    "print(Tree.getRoot(tree).value)\n",
    "\n",
    "# Search for every number in list\n",
    "for value in node_values:\n",
    "    Tree.search(tree, value)\n"
   ]
  },
  {
   "cell_type": "markdown",
   "metadata": {},
   "source": [
    "Try to play around with the code of the binary tree to get an idea of what exactly is happening. \n",
    "Also try to draw a binary tree on paper, to get a better idea of what it is."
   ]
  },
  {
   "cell_type": "markdown",
   "metadata": {},
   "source": [
    "### Task 3\n",
    "Add 20 nodes to the binary tree and complete the method that searches for the node with a certain value.\n",
    "Afterwards describe the algorithm and the idea of your algorithm in at least 5 sentences.\n",
    "\n",
    "*Hint: It might be a good idea to have a closer look at the add function to complete the search function*"
   ]
  },
  {
   "cell_type": "code",
   "execution_count": 35,
   "metadata": {},
   "outputs": [],
   "source": [
    "explain_binary=\"\"\"\n",
    "The search algorithm almost works the same way as adding new values into the binary tree.\n",
    "The algorithm goes through 1-3 steps and takes a value as input:\n",
    "    1 - Compare the input with the current node\n",
    "        Return if it is equal, continue otherwise.\n",
    "    2 - Check if LEFT node exists and if the input is SMALLER than the value in the current node\n",
    "        Traverse to the left node if this is the case, continue otherwise.\n",
    "    3 - Check if RIGHT node exists and if the input is LARGER than the value in the current node\n",
    "        Traverse to the RIGHT node if this is the case, continue otherwise.\n",
    "    4 - Error\n",
    "\"\"\""
   ]
  },
  {
   "cell_type": "markdown",
   "metadata": {},
   "source": [
    "## NetworkX\n",
    "\n",
    "In the next step, we will have a look at one of Python's most popular libraries for graphs and trees.\n",
    "You can have a quick look at the [libraries tutorial](https://networkx.org/documentation/stable/tutorial.html) to get an idea on how it works.\n",
    "\n",
    "\n",
    "As a first example, we can initialize a graph object from the adjacency matrix that you have created above.\n",
    "And we will also draw this graph.\n",
    "If this does not work, try to reinstall the packages from above and reboot the notebook.\n",
    "There might be an issue with the *Decorator* package. \n",
    "\n",
    "Afterwards, we will look into creating a tree manually.\n"
   ]
  },
  {
   "cell_type": "code",
   "execution_count": 36,
   "metadata": {},
   "outputs": [
    {
     "data": {
      "image/png": "[encoded data removed]",
      "text/plain": [
       "<Figure size 640x480 with 1 Axes>"
      ]
     },
     "metadata": {},
     "output_type": "display_data"
    }
   ],
   "source": [
    "import networkx as nx\n",
    "G = nx.from_numpy_array(np.array(adj_graph)) # nx.from_numpy_matrix did not work\n",
    "nx.draw(G)"
   ]
  },
  {
   "cell_type": "markdown",
   "metadata": {},
   "source": [
    "### Task 4\n",
    "\n",
    "Create a new NetworkX graph and manually add nodes and edges, so that you end up with a full 3-ary tree of depth 2.\n",
    "\n",
    "Afterwards, use the draw function to check, if it worked out."
   ]
  },
  {
   "cell_type": "code",
   "execution_count": 37,
   "metadata": {},
   "outputs": [
    {
     "name": "stdout",
     "output_type": "stream",
     "text": [
      "depth one: 2\n",
      "     depth two: 5\n",
      "     depth two: 6\n",
      "     depth two: 7\n",
      "depth one: 3\n",
      "     depth two: 8\n",
      "     depth two: 9\n",
      "     depth two: 10\n",
      "depth one: 4\n",
      "     depth two: 11\n",
      "     depth two: 12\n",
      "     depth two: 13\n"
     ]
    },
    {
     "data": {
      "image/png": "[encoded data removed]",
      "text/plain": [
       "<Figure size 640x480 with 1 Axes>"
      ]
     },
     "metadata": {},
     "output_type": "display_data"
    }
   ],
   "source": [
    "G = nx.Graph()  # Initialize graph\n",
    "\n",
    "G.add_node(1) # Root node\n",
    "\n",
    "# Add nodes in depth 1 and connect to root\n",
    "for idx, depth_one in enumerate(range(2,5)):\n",
    "    G.add_node(depth_one)\n",
    "    G.add_edge(1, depth_one)\n",
    "    print(\"depth one:\", str(depth_one))\n",
    "    # Add nodes in depth 2 and connect to parent\n",
    "    for depth_two in range((depth_one * 2) + idx + 1 , (depth_one * 2) + idx + 4):\n",
    "        G.add_node(depth_two)\n",
    "        G.add_edge(depth_one, depth_two)\n",
    "        print(\"     depth two:\", str(depth_two))\n",
    "\n",
    "nx.draw(G)"
   ]
  },
  {
   "cell_type": "markdown",
   "metadata": {},
   "source": [
    "### Final Task: Collect all the results\n",
    "\n",
    "Fill in your student number in the variable and then run this cell (and all the cells above) to generate the text file that you have to hand in together with the notebook on canvas!"
   ]
  },
  {
   "cell_type": "code",
   "execution_count": 38,
   "metadata": {},
   "outputs": [],
   "source": [
    "def exportToText(*args):\n",
    "    with open(args[0], \"w\") as f:\n",
    "        for argument in args:\n",
    "            f.write(\"{}\\n\".format(argument))\n",
    "\n",
    "exportToText(\"assignment1.txt\",\"2822237\", dict_graph_explanation, adj_graph_explanation, explain_binary)"
   ]
  }
 ],
 "metadata": {
  "kernelspec": {
   "display_name": "Python 3",
   "language": "python",
   "name": "python3"
  },
  "language_info": {
   "codemirror_mode": {
    "name": "ipython",
    "version": 3
   },
   "file_extension": ".py",
   "mimetype": "text/x-python",
   "name": "python",
   "nbconvert_exporter": "python",
   "pygments_lexer": "ipython3",
   "version": "3.11.6"
  }
 },
 "nbformat": 4,
 "nbformat_minor": 4
}
