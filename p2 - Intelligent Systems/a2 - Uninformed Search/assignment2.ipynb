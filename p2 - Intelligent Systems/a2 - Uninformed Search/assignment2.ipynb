{
 "cells": [
  {
   "cell_type": "markdown",
   "metadata": {},
   "source": [
    "# Intelligent Systems 2022: 2. practical assignment \n",
    "## Uninformed Search "
   ]
  },
  {
   "cell_type": "markdown",
   "metadata": {},
   "source": [
    "Your name: Amund Strøm\n",
    "\n",
    "Your VUNetID: ast101\n",
    "\n",
    "If you do not provide your name and VUNetID we will not accept your submission. \n",
    "\n",
    "### Learning objectives\n",
    "At the end of this exercise you should be able to understand the implementations of the basic algorithms for uninformed search, BFS, and DFS. You should be able to: \n",
    "\n",
    "1. Understand the algorithms (be able to explain in your own words) \n",
    "2. Follow the individual steps of the algorithms \n",
    "3. Make small modifications of the code to see the effect on the search algorithms\n",
    "4. Make small adaptations to the algorithm to study the computational properties\n",
    "\n",
    "### Practicalities\n",
    "\n",
    "Follow this Notebook step-by-step. \n",
    "\n",
    "Of course, you can do the exercises in any Programming Editor of your liking. \n",
    "But you do not have to. Feel free to simply write code in the Notebook. Please use your studentID+Assignment1.ipynb as the name of the \n",
    "Notebook.  \n",
    "\n",
    "Note: unlike the courses dedicated to programming we will not evaluate the style of the programs. But we will, however, test your programs on other data that we provide, and your program should give the correct output to the test-data as well.\n",
    "\n",
    "As was mentioned, the assignment is graded as pass/fail. To pass you need to have either a full working code or an explanation of what you tried and what didn't work for the tasks that you were unable to complete (you can use multi-line comments or a text cell).\n",
    "\n",
    "## Initialising \n",
    "\n",
    "First, let us make sure the necessary packages are installed, and imported. Run the following code:"
   ]
  },
  {
   "cell_type": "code",
   "execution_count": 312,
   "metadata": {},
   "outputs": [],
   "source": [
    "import sys\n",
    "!{sys.executable} -m pip install numpy\n",
    "import datetime\n",
    "import numpy as np\n",
    "from numpy import random\n",
    "from collections import deque\n",
    "\n",
    "from utils import *\n",
    "\n",
    "# This might produce a warning that numpy is already installed. "
   ]
  },
  {
   "cell_type": "markdown",
   "metadata": {},
   "source": [
    "## Starting your first game"
   ]
  },
  {
   "cell_type": "code",
   "execution_count": 313,
   "metadata": {},
   "outputs": [],
   "source": [
    "HAND_SIZE = 5      #TODO: replace with your desired hand size (should not be higher than 10 or less than 1)\n",
    "STUDENT_NUMBER = 2822237 #TODO: replace with your own student number"
   ]
  },
  {
   "cell_type": "markdown",
   "metadata": {},
   "source": [
    "With the constant HAND_SIZE we decide how many cards we want in our hand. \n",
    "By default it is set to 5, you can change it to any hand size, \n",
    "do keep in mind that the higher the number of cards in your hand, \n",
    "the more branches in the search tree there are, and the longer it will take to run.\n",
    "\n",
    "Your student number is used to set a random seed.\n",
    "There are situations imaginable where you want a pseudo random selection (for example when debugging it's nice to always work with the same values)\n",
    "In short, the seed ensures that you get a pseudo random distribution that will always be the same when you re-run the code.\n",
    "It is a random distribution because you don't have to hard code them in yourself, \n",
    "but it is not random in the sense that the next time you run it you get different cards!\n",
    "For more information on pseudo random number generators, \n",
    "check out https://www.geeksforgeeks.org/pseudo-random-number-generator-prng/."
   ]
  },
  {
   "cell_type": "markdown",
   "metadata": {},
   "source": [
    "### Task 1\n",
    "\n",
    "You may wonder how the cards for this game are represented. \n",
    "Go to utils and find out in which variable this information is found, print this variable below:\n"
   ]
  },
  {
   "cell_type": "code",
   "execution_count": 314,
   "metadata": {},
   "outputs": [
    {
     "name": "stdout",
     "output_type": "stream",
     "text": [
      "\n",
      "        h  d  s  c\n",
      "ace  [[ 0  1  2  3]  = 11pts     h = hearts\n",
      "ten   [ 4  5  6  7]  = 10pts     d = diamonds\n",
      "king  [ 8  9 10 11]  = 4pts      s = spades\n",
      "queen [12 13 14 15]  = 3pts      c = clubs\n",
      "jack  [16 17 18 19]] = 2pts\n",
      "For example: '10' is 'king of spades'\n",
      "\n"
     ]
    }
   ],
   "source": [
    "#insert print statement here\n",
    "print(representation)\n",
    "\n",
    "# Right hand: [10  1 15 16 14]\n",
    "# Left hand: [ 7 12  4  2  5]\n",
    "\n",
    "# The solution is: [5, 1, 2, 10]\n",
    "\n",
    "# Left hand: [17 10  3 13 11]\n",
    "# Right hand: [14 18 12  9  0]"
   ]
  },
  {
   "cell_type": "markdown",
   "metadata": {},
   "source": [
    "## Some support functions"
   ]
  },
  {
   "cell_type": "markdown",
   "metadata": {},
   "source": [
    "Next, there are some functions we need for the implementation. Try to get the gist of what they do, but if you do not understand fully, don't worry. \n",
    "- The first one tests whether a move is valid (so whether a card follows suit, or has the same value). \n",
    "- The second is a helper function that checks whether two cards have the same suit.\n",
    "- The third function checks whether two cards have the same value. \n",
    "- The last one makes a random choice of cards in the hands. \n",
    "\n",
    "We don't expect you to fully understand the coding behind these functions, however, if you are interested you might find the following link useful: https://www.programiz.com/python-programming/matrix. Take a look at how Python Matrices are created and how to access rows and columns. "
   ]
  },
  {
   "cell_type": "code",
   "execution_count": 315,
   "metadata": {},
   "outputs": [],
   "source": [
    "def valid_move(cardA, cardB):\n",
    "    #print(\"validMove: comparing \" + str(cardA) + \" to \" + str(cardB)) UNCOMMENT THIS TO SEE WHICH CARDS ARE BEING COMPARED\n",
    "    g = np.arange(20).reshape(5, 4) #this produces the same grid as the representation, for the purpose of checking moves\n",
    "    if check_value(cardA, cardB, g):\n",
    "        return True\n",
    "    elif check_suit(cardA, cardB, g):\n",
    "        return True\n",
    "    else:\n",
    "        #print(\"validMove: No move found\")\n",
    "        return False\n",
    "\n",
    "def check_suit(cardA, cardB, grid):\n",
    "    r, c = grid.shape\n",
    "    for i in range(c):\n",
    "        if np.any(grid[:, i] == cardA) and np.any(grid[:, i] == cardB):\n",
    "            return True\n",
    "\n",
    "def check_value(cardA, cardB, grid):\n",
    "    r, c = grid.shape\n",
    "    for i in range(r):\n",
    "        if np.any(grid[i] == cardA) and np.any(grid[i] == cardB):\n",
    "            return True\n",
    "\n",
    "def pick_cards(seed, size):\n",
    "    random.seed(seed)\n",
    "    cards = np.random.choice(20, (size*2), replace = False)\n",
    "    leftHand = cards[:size]\n",
    "    rightHand = cards[size:]\n",
    "    return (leftHand, rightHand)"
   ]
  },
  {
   "cell_type": "markdown",
   "metadata": {},
   "source": [
    "## Main Search algorithms"
   ]
  },
  {
   "cell_type": "markdown",
   "metadata": {},
   "source": [
    "Now it is time to define BFS. Try to understand the implementation. It is as close to the pseudocode presented in class as possible.\n"
   ]
  },
  {
   "cell_type": "code",
   "execution_count": 316,
   "metadata": {},
   "outputs": [],
   "source": [
    "def breadth_first_tree_search(problem):\n",
    "    \"\"\"\n",
    "    Search the shallowest nodes in the search tree first.\n",
    "    Search through the successors of a problem to find a goal.\n",
    "    The argument fringe should be an empty queue.\n",
    "    Repeats infinitely in case of loops.\n",
    "    \"\"\"\n",
    "\n",
    "    nodeCount = 0\n",
    "    fringe = deque([Node(problem.initial)])  # FIFO queue\n",
    "    while fringe:\n",
    "        # Count number of nodes accesed\n",
    "        nodeCount += 1\n",
    "        \n",
    "        node = fringe.popleft()\n",
    "        if problem.goal_test(node.state):\n",
    "            print(\"###########\")\n",
    "            print(\"success!\")\n",
    "            print(\"The solution is: {}\".format(node.solution()))\n",
    "            return node, nodeCount\n",
    "        fringe.extend(node.expand(problem))\n",
    "    print(\"###########\")\n",
    "    print(\"unfortunately no solution has been found!\")\n",
    "    return None"
   ]
  },
  {
   "cell_type": "markdown",
   "metadata": {},
   "source": [
    "And here comes DFS. Again, check out the code, and look at the difference between the two implementations. "
   ]
  },
  {
   "cell_type": "code",
   "execution_count": 317,
   "metadata": {},
   "outputs": [],
   "source": [
    "def depth_first_tree_search(problem):\n",
    "    \"\"\"\n",
    "    Search the deepest nodes in the search tree first.\n",
    "    Search through the successors of a problem to find a goal.\n",
    "    The argument fringe should be an empty queue.\n",
    "    Repeats infinitely in case of loops.\n",
    "    \"\"\"\n",
    "\n",
    "    nodeCount = 0\n",
    "    fringe = [Node(problem.initial)]  # Stack\n",
    "    while fringe:\n",
    "        # Count number of nodes accesed\n",
    "        nodeCount += 1\n",
    "        \n",
    "        node = fringe.pop()\n",
    "        if problem.goal_test(node.state):\n",
    "            print(\"###########\")\n",
    "            print(\"succes!\")\n",
    "            print(\"solution: {}\".format(node.solution()))\n",
    "            return node, nodeCount\n",
    "        fringe.extend(node.expand(problem))\n",
    "    print(\"###########\")\n",
    "    print(\"unfortunately no solution has been found!\")\n",
    "    return None"
   ]
  },
  {
   "cell_type": "markdown",
   "metadata": {},
   "source": [
    "### Task 2\n",
    "Explain in your own words the difference between the implementations. Write your explanation into the following cell:"
   ]
  },
  {
   "cell_type": "code",
   "execution_count": 318,
   "metadata": {},
   "outputs": [],
   "source": [
    "myReport1 = \"\"\"The difference between the two implementations lies in how the algorithms handles the removal and checking of goal states on the nodes within the fringe.\n",
    "In BFS, this process occurs on the left side of the fringe, whereas in DFS, it takes place on the right side. But both implementations add the child nodes to \n",
    "the right side of the fringe. This results in BFS using a First In First Out (FIFO) approach, exploring the tree level by level. On the other hand, DFS uses a \n",
    "Last In First Out (LIFO) or stack approach, leading it to explore the tree leaf node by leaf node. \"\"\""
   ]
  },
  {
   "cell_type": "markdown",
   "metadata": {},
   "source": [
    "The cell below generates the cards for your left and right hand."
   ]
  },
  {
   "cell_type": "code",
   "execution_count": 319,
   "metadata": {},
   "outputs": [
    {
     "name": "stdout",
     "output_type": "stream",
     "text": [
      "Right hand: [10  1 15 16 14]\n",
      "Left hand: [ 7 12  4  2  5]\n"
     ]
    }
   ],
   "source": [
    "leftHand, rightHand = pick_cards(STUDENT_NUMBER, HAND_SIZE)\n",
    "\n",
    "\n",
    "print(\"Right hand: {}\".format(rightHand))\n",
    "print(\"Left hand: {}\".format(leftHand))"
   ]
  },
  {
   "cell_type": "markdown",
   "metadata": {},
   "source": [
    "## Constructing your own game\n",
    "\n",
    "Of course you don't have to (always) use random cards, you can also choose your own set of cards. \n",
    "Just make sure the numbers (integers) in the arrays are unique and between 0 and 19. Uncomment and define the variable values. Also make sure that the array is of correct size (according to the previous tasks)."
   ]
  },
  {
   "cell_type": "code",
   "execution_count": 320,
   "metadata": {},
   "outputs": [],
   "source": [
    "#####\n",
    "customLeftHand = [5, 2, 6]\n",
    "customRightHand = [15, 1, 10]\n",
    "#####"
   ]
  },
  {
   "cell_type": "markdown",
   "metadata": {},
   "source": [
    "Here we specify our initial state of the problem. Again, uncomment and fill in/correct the code so that your custom hands are used."
   ]
  },
  {
   "cell_type": "code",
   "execution_count": 321,
   "metadata": {},
   "outputs": [],
   "source": [
    "initialState = GameState(leftHand, rightHand, True, True)"
   ]
  },
  {
   "cell_type": "markdown",
   "metadata": {},
   "source": [
    "### Task 3\n",
    "Look in the utils file how you can print the state, \n",
    "and print the initial state below (make sure you've specified HAND_SIZE and STUDENT_NUMBER or the custom hands).\n",
    "\n",
    "Hint: to call a function from a class use class.function(paramaters) or if the class was previously called use variable.function(). For more information check https://www.geeksforgeeks.org/python-call-function-from-another-function/.\n"
   ]
  },
  {
   "cell_type": "code",
   "execution_count": 322,
   "metadata": {},
   "outputs": [
    {
     "name": "stdout",
     "output_type": "stream",
     "text": [
      "------\n",
      "GameState: Printing state: \n",
      "Left hand: [ 7 12  4  2  5]\n",
      "Right hand: [10  1 15 16 14]\n",
      "Do we play from left hand to get to next state? True\n",
      "Points scored: 0\n",
      "All cards: [7, 12, 4, 2, 5, 10, 1, 15, 16, 14]\n",
      "All card points: [10, 3, 10, 11, 10, 4, 11, 3, 2, 3]\n",
      "------\n"
     ]
    }
   ],
   "source": [
    "# This is the sate of the game using HAND_SIZE = 5, and STUDENT_NUMBER = 2822237\n",
    "initialState.printState()"
   ]
  },
  {
   "cell_type": "markdown",
   "metadata": {},
   "source": [
    "This cell constructs the problem for your game."
   ]
  },
  {
   "cell_type": "code",
   "execution_count": 323,
   "metadata": {},
   "outputs": [],
   "source": [
    "p = Problem(initialState)"
   ]
  },
  {
   "cell_type": "markdown",
   "metadata": {},
   "source": [
    "We can now run experiments on how long the search took by looking at the time difference in microseconds \n",
    "between the start and finish of the search.\n",
    "\n",
    "In case your game does not have a solution, you might want to try to run a custom-made set of hands as presented above."
   ]
  },
  {
   "cell_type": "code",
   "execution_count": 324,
   "metadata": {},
   "outputs": [
    {
     "name": "stdout",
     "output_type": "stream",
     "text": [
      "###########\n",
      "success!\n",
      "The solution is: [5, 1, 2, 10]\n",
      "The search took 39837 microseconds\n"
     ]
    }
   ],
   "source": [
    "startTime = datetime.datetime.now()\n",
    "\n",
    "search = breadth_first_tree_search(p)\n",
    "# search = depth_first_tree_search(p)\n",
    "\n",
    "endTime = datetime.datetime.now()\n",
    "\n",
    "duration = endTime-startTime\n",
    "print(\"The search took {} microseconds\".format(duration.microseconds))\n"
   ]
  },
  {
   "cell_type": "markdown",
   "metadata": {},
   "source": [
    "### Task 4"
   ]
  },
  {
   "cell_type": "markdown",
   "metadata": {},
   "source": [
    "Using the representation matrix of the cards, think of a combination of two hands for which no solution would be found (minimal hand size = 3).\n",
    "\n",
    "To save your solution, declare two lists, named “noLeft” and “noRight” and populate them with suitable cards."
   ]
  },
  {
   "cell_type": "code",
   "execution_count": 325,
   "metadata": {},
   "outputs": [],
   "source": [
    "noLeft = [17,18,19]\n",
    "noRight = [0,1,2]"
   ]
  },
  {
   "cell_type": "markdown",
   "metadata": {},
   "source": [
    "### Task 5\n",
    "\n",
    "For this task, the goal ist to count the number of nodes that our search algorithms have to access before the goal state is achieved.\n",
    "Try to adapt the to algorithms from above, such that the number of nodes that had to be generated are counted in a variable.\n",
    "\n",
    "Run the Depth First Search algorithm based on your student number (set as seed) and hand size of 5. \n",
    "Have the algorithm return or print the counter. Save your solution in the variable below.\n",
    "\n",
    "Hint: You need to create a variable and icrement it every time you visit a node."
   ]
  },
  {
   "cell_type": "code",
   "execution_count": 326,
   "metadata": {},
   "outputs": [
    {
     "name": "stdout",
     "output_type": "stream",
     "text": [
      "32\n"
     ]
    }
   ],
   "source": [
    "nodeCount = search[1]\n",
    "print(nodeCount)"
   ]
  },
  {
   "cell_type": "markdown",
   "metadata": {},
   "source": [
    "### Task 6\n",
    "\n",
    "Report briefly on if (and if so, how):\n",
    "\n",
    "    * a) changing the order of the cards in your hand\n",
    "    * b) choosing depth first or breadth first search\n",
    "    \n",
    "   ...individually and combined have an influence on the running time and nodes generated. \n",
    "   Save this (brief!) report in a multi line string variable named “myReport”.\n",
    "   \n",
    "   Note: If your student number does not generate hands for which a solution can be found, \n",
    "   pick a custom hand (be sure to implement it above, and run all the cells again to make sure it gets executed properly)."
   ]
  },
  {
   "cell_type": "code",
   "execution_count": 327,
   "metadata": {},
   "outputs": [],
   "source": [
    "myReport2 = \"\"\"When we alter the card order and adjust the search algorithm, we observe differences in the nodes explored:\n",
    "\n",
    "    -32 nodes traversed with a defualt hand and BFS. \n",
    "    -5 nodes traversed with a defualt hand and DFS. \n",
    "    -24 nodes traversed with a reversed hand and BFS. \n",
    "    -9 nodes traversed with a reversed hand and DFS.\n",
    "\n",
    "Changing from BFS to DFS shows a decrease in visited nodes in both scenarios. The reason for this is based on the DFS algorithm's systematic exploration of leaf nodes, \n",
    "with schnapsen's goal state being one such leaf node.\n",
    "\n",
    "Modifying the card order shows a change in nodes explored in all cases, both positivly and negativly. By changing the cards in the hand alters the node order in the tree, \n",
    "thereby modifying the tree's structure and influencing the number of nodes visited.\n",
    "\n",
    "Presenting changes in running time across these cases is challenging due to the inconsistency of the running time each time the problem is executed with the same parameters. \n",
    "However, a reduction in explored nodes should correspond to a decrease in running time.\n",
    "\"\"\""
   ]
  },
  {
   "cell_type": "markdown",
   "metadata": {},
   "source": [
    "### Task 7\n",
    "\n",
    "Using the representation of the cards and your knowledge of the search algorithms, \n",
    "define a pair of hands that will be faster with depth first search (hand size = 3).\n",
    "    \n",
    "Save your solution by declaring 2 lists named \"DFSL\" (left hand) and \"DFSR\" (right hand)."
   ]
  },
  {
   "cell_type": "code",
   "execution_count": 328,
   "metadata": {},
   "outputs": [],
   "source": [
    "DFSL = [5, 2, 6]\n",
    "DFSR = [15, 1, 10]"
   ]
  },
  {
   "cell_type": "markdown",
   "metadata": {},
   "source": [
    "### Task 8\n",
    "\n",
    "Explain why it is not possible to define a pair of hands such that Breadth First Search is faster than Depth First Search. Save your (brief) explanation as a multi-line string in the variable below"
   ]
  },
  {
   "cell_type": "code",
   "execution_count": 329,
   "metadata": {},
   "outputs": [],
   "source": [
    "myReport3 = \"\"\"Creating a pair of hands where BFS is faster than DFS is not possible. This is because the DFS algorithm systematically explores the tree leaf by leaf, \n",
    "while BFS traverses level by level. This means that by the time BFS reaches the first leaf node, DFS has already explored it. But in scenarios where the last leaf node in\n",
    "the tree is the goal state, they would be equally fast.\"\"\""
   ]
  },
  {
   "cell_type": "markdown",
   "metadata": {},
   "source": [
    "### Final Task: Collect all the results\n",
    "\n",
    "Uncomment and run this cell (and all the cells above) to generate the text file that you have to hand in together with the notebook on canvas!"
   ]
  },
  {
   "cell_type": "code",
   "execution_count": null,
   "metadata": {},
   "outputs": [],
   "source": [
    "exportToText(\"assignment2.txt\",STUDENT_NUMBER, noLeft, noRight, nodeCount, myReport1, DFSL, DFSR, myReport2, myReport3)"
   ]
  },
  {
   "cell_type": "markdown",
   "metadata": {},
   "source": []
  }
 ],
 "metadata": {
  "kernelspec": {
   "display_name": "Python 3",
   "language": "python",
   "name": "python3"
  },
  "language_info": {
   "codemirror_mode": {
    "name": "ipython",
    "version": 3
   },
   "file_extension": ".py",
   "mimetype": "text/x-python",
   "name": "python",
   "nbconvert_exporter": "python",
   "pygments_lexer": "ipython3",
   "version": "3.11.6"
  }
 },
 "nbformat": 4,
 "nbformat_minor": 4
}
