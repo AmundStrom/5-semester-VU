{
 "cells": [
  {
   "cell_type": "markdown",
   "metadata": {},
   "source": [
    "# Intelligent Systems 2023: Practical Assignment 08\n",
    "\n",
    "\n",
    "Your name: Amund Strøm\n",
    "\n",
    "Your VUnetID: ast101\n",
    "\n",
    "If you do not provide your name and VUnetID we will not accept your submission. \n",
    "\n",
    "### Learning objectives\n",
    "At the end of this exercise you should be able to work with some basic fuzzy concepts, and implement and evaluate a simple probabilistic approach to playing Schnapsen. \n",
    "\n",
    "### Preliminaries\n",
    "\n",
    "In this worksheet we will learn some basics about probability theory.\n",
    "\n",
    "\n",
    "### Practicalities\n",
    "\n",
    "Follow this Notebook step-by-step. \n",
    "\n",
    "Of course, you can do the exercises in any Programming Editor of your liking. But you do not have to. Feel free to simply write code in the Notebook. Please use your studentID+Assignment8.ipynb as the name of the Notebook.  \n",
    "\n",
    "Note: unlike the courses dedicated to programming we will not evaluate the style of the programs. But we will, however, test your programs on other data that we provide, and your program should give the correct output to the test-data as well.\n",
    "\n",
    "As was mentioned, the assignment is graded as pass/fail. To pass you need to have either a full working code or an explanation of what you tried and what didn't work for the tasks that you were unable to complete (you can use multi-line comments or a text cell).\n",
    "\n",
    "## Initialising\n",
    "\n",
    "First, we have to install the schnapsen python package. \n",
    "Run the below code cell.\n",
    "After running the cell, you have the schnapsen Github repository cloned in your current directory.\n",
    "You can find the new directory created with the name `schnapsen`.\n",
    "The detailed installation instructions can be found in the [README.md](https://github.com/intelligent-systems-course/schnapsen) of the repo."
   ]
  },
  {
   "cell_type": "code",
   "execution_count": 6,
   "metadata": {},
   "outputs": [],
   "source": [
    "# If you are on a UNIX system (Linux or Mac OS)\n",
    "#!pip uninstall schnapsen -y && rm -rf schnapsen && git clone https://github.com/intelligent-systems-course/schnapsen && cd schnapsen && pip install -e . && cd .."
   ]
  },
  {
   "cell_type": "code",
   "execution_count": 7,
   "metadata": {},
   "outputs": [],
   "source": [
    "# If you are on Windows\n",
    "#!pip uninstall schnapsen -y rd /s /q schnapsen && git clone https://github.com/intelligent-systems-course/schnapsen && cd schnapsen && pip install -e . && cd .."
   ]
  },
  {
   "cell_type": "markdown",
   "metadata": {},
   "source": [
    "## Probability Theory and Combinatorics"
   ]
  },
  {
   "cell_type": "markdown",
   "metadata": {},
   "source": [
    "### Task 1:\n",
    "\n",
    "In this task, we will work with table that we already used in the lecture.\n",
    "![table](table.png)\n",
    "\n",
    "\n",
    "You are supposed to implement Bayes theorem in its own function. Given the probability P(A), P(B), and P(B|A), you should try to implement a function that prints P(A|B).\n",
    "\n",
    "Use the following probabilities and your Bayes theorem function to compute the probability for P(value>4 = true | diamond):\n",
    "- P(diamond|Value>4=True) = 1/9 \n",
    "- P(diamond) = 4/9  \n",
    "- P(Value>4 = False)= 4/9\n",
    "\n",
    "Adapt the code below such that it can compute the bayes probability and run it."
   ]
  },
  {
   "cell_type": "code",
   "execution_count": 8,
   "metadata": {},
   "outputs": [
    {
     "name": "stdout",
     "output_type": "stream",
     "text": [
      "0.1111111111111111\n"
     ]
    },
    {
     "data": {
      "text/plain": [
       "0.1111111111111111"
      ]
     },
     "execution_count": 8,
     "metadata": {},
     "output_type": "execute_result"
    }
   ],
   "source": [
    "def bayes_theorem(p_a, p_b, p_ba):\n",
    "    assert p_b != 0, \"cannot divide by 0\"\n",
    "\n",
    "    p_ab = (p_ba * p_a) / p_b\n",
    "    \n",
    "    print(p_ab)\n",
    "    return(p_ab)\n",
    "\n",
    "#run it with the values from above\n",
    "bayes_theorem(4/9, 4/9, 1/9 )"
   ]
  },
  {
   "cell_type": "markdown",
   "metadata": {},
   "source": [
    "### Joint Probability Distributions\n",
    "\n",
    "In the next tasks, we will compute the joint probability distribution for the three random variables: LowCard(L), Diamond(D), and BlackWedding(B).\n",
    "- LowCards is true for either jacks, queens, and kings\n",
    "- Diamond is true for all cards of the suit diamond\n",
    "- BlackWeeding is true for all black queens and kings: QueenSpades, QueenClubs, KingSpades, KingClubs\n",
    "\n",
    "\n",
    "In the following code snippet, for every card of the game, we first define the three properties (L,D,B) as boolean variables.\n",
    "\n",
    "Afterwards, we define a function that creates a random subset of all cards. These are the unknown cards (cards in the tallon and in the opponents hand) in the game.\n",
    "You can hand over a variable k which determines the size of the random cards which are picked from all cards. The random cards are also printed.\n",
    "\n",
    "In the upcoming tasks, we will compute probabilities for different game situations."
   ]
  },
  {
   "cell_type": "code",
   "execution_count": 9,
   "metadata": {},
   "outputs": [
    {
     "name": "stdout",
     "output_type": "stream",
     "text": [
      "('JackDiamonds', True, True, False)\n",
      "('TenHearts', False, False, False)\n",
      "('QueenHearts', True, False, False)\n",
      "('QueenDiamonds', True, True, False)\n",
      "('TenClubs', False, False, False)\n",
      "('KingDiamonds', True, True, False)\n",
      "('TenDiamonds', False, True, False)\n",
      "('AceSpades', False, False, False)\n",
      "('KingSpades', True, False, True)\n",
      "('KingClubs', True, False, True)\n",
      "('JackHearts', True, False, False)\n",
      "('KingHearts', True, False, False)\n"
     ]
    }
   ],
   "source": [
    "jackHearts = ('JackHearts',True, False, False)\n",
    "jackSpades  = ('JackSpades',True, False, False)\n",
    "jackDiamonds = ('JackDiamonds',True, True, False)\n",
    "jackClubs = ('JackClubs',True, False, False)\n",
    "\n",
    "queenHearts = ('QueenHearts',True, False, False)\n",
    "queenSpades = ('QueenSpades',True, False, True)\n",
    "queenDiamonds = ('QueenDiamonds',True, True, False)\n",
    "queenClubs = ('QueenClubs',True, False, True)\n",
    "\n",
    "kingHearts = ('KingHearts',True, False, False)\n",
    "kingSpades = ('KingSpades',True, False, True)\n",
    "kingDiamonds = ('KingDiamonds',True, True, False)\n",
    "kingClubs = ('KingClubs',True, False, True)\n",
    "\n",
    "tenHearts = ('TenHearts',False, False, False)\n",
    "tenSpades = ('TenSpades',False, False, False)\n",
    "tenDiamonds = ('TenDiamonds',False, True, False)\n",
    "tenClubs = ('TenClubs',False, False, False)\n",
    "\n",
    "aceHearts = ('AceHearts',False, False, False)\n",
    "aceSpades = ('AceSpades',False, False, False)\n",
    "aceDiamonds = ('AceDiamonds',False, True, False)\n",
    "aceClubs = ('AceClubs',False, False, False)\n",
    "\n",
    "allCards = [jackHearts, jackSpades , jackDiamonds, jackClubs, queenHearts, queenSpades, queenDiamonds, queenClubs, kingHearts, kingSpades, kingDiamonds, kingClubs, tenHearts, tenSpades, tenDiamonds, tenClubs, aceHearts, aceSpades, aceDiamonds, aceClubs]\n",
    "\n",
    "import random\n",
    "\n",
    "#number of random cards you want to get from the list\n",
    "k = 12\n",
    "randomCards = random.sample(allCards, k)\n",
    "\n",
    "for card in randomCards:\n",
    "    print(card)\n",
    "\n",
    "\n"
   ]
  },
  {
   "cell_type": "markdown",
   "metadata": {},
   "source": [
    "### Task 2\n",
    "\n",
    "In this task, we want to compute the joint probability distribution for the three random variables LowCard(L), Diamond(D), and BlackWedding(B).\n",
    "Instead the distribution for all possible combinations of the random variables, we will code a function which can compute the joint probability for a single combination of random variables.\n",
    "\n",
    "As an example, the you should be able to compute the joint probability P(L=True, D=True, B = False) given a random set of cards.\n",
    "\n",
    "\n",
    "Your task is to complete the next code snippet, such that the function computeJPD computes the joint probability for a random card input and a choice of random variables l,d,b each of them being a boolean variable.\n",
    "\n",
    "*Hint: you probably need more than 1 line of code to do this*\n"
   ]
  },
  {
   "cell_type": "code",
   "execution_count": 10,
   "metadata": {},
   "outputs": [
    {
     "data": {
      "text/plain": [
       "0.16666666666666666"
      ]
     },
     "execution_count": 10,
     "metadata": {},
     "output_type": "execute_result"
    }
   ],
   "source": [
    "def computeJPD(l,d,b,randomCards):\n",
    "\n",
    "    jointProbability = 0\n",
    "\n",
    "    for card in randomCards:\n",
    "        if card[1:] == (l, d, b):\n",
    "            jointProbability += 1\n",
    "\n",
    "    jointProbability = jointProbability / len(randomCards)\n",
    "\n",
    "    # print(jointProbability)\n",
    "    return(jointProbability)\n",
    "\n",
    "computeJPD(True, False, True, randomCards)"
   ]
  },
  {
   "cell_type": "markdown",
   "metadata": {},
   "source": [
    "### Task 3\n",
    "\n",
    "In the next step, we want to compute the probability P(B|I) using the computeJPD function from above. Try to write a  snippet of code and save the computation into the variable p_b_l.\n",
    "\n",
    "Also describe what you did into the MyReport1 variable.\n",
    "\n",
    "*Hint: P(B,) / P(l)*"
   ]
  },
  {
   "cell_type": "code",
   "execution_count": 16,
   "metadata": {},
   "outputs": [
    {
     "name": "stdout",
     "output_type": "stream",
     "text": [
      "0.25\n",
      "P(B|L):  0.25\n"
     ]
    }
   ],
   "source": [
    "# add your computation here and write a report below\n",
    "boolean_values = [True, False]\n",
    "\n",
    "# Compute P(B)\n",
    "p_b = 0\n",
    "for l in boolean_values:\n",
    "    for d in boolean_values:\n",
    "        p_b += computeJPD(l, d, True, randomCards)\n",
    "\n",
    "# Compute P(L)\n",
    "p_l = 0\n",
    "for d in boolean_values:\n",
    "    for b in boolean_values:\n",
    "        p_l += computeJPD(True, d, b, randomCards)\n",
    "\n",
    "# Compute P(L and B)\n",
    "p_l_and_b = 0\n",
    "for d in boolean_values:\n",
    "    p_l_and_b += computeJPD(True, d, True, randomCards)\n",
    "\n",
    "# Compute P(L|B)\n",
    "p_l_b = p_l_and_b / p_b\n",
    "\n",
    "p_b_l = bayes_theorem(p_b, p_l, p_l_b)\n",
    "print(\"P(B|L): \", p_b_l)"
   ]
  },
  {
   "cell_type": "code",
   "execution_count": 17,
   "metadata": {},
   "outputs": [],
   "source": [
    "MyReport1 =\"\"\"\n",
    "To calculate the probability for P(B|L) we need to use bayes theorem and therefore need P(B), P(L) and P(L|B). To get the values P(B) and P(L) we need to compute the joint \n",
    "probability for every case where 'b' is true in (l,d,b) and 'l' is true in (l,d,b) and sum them up respectivly. Then we need the probability for P(L|B) which is the \n",
    "propability where both 'l' and 'b' is true in (l,d,b) divided by P(B). This turns out to always be 1, since every black wedding card is always a low card. \n",
    "Finally we use these probabilites in bayes theorem to get P(B|L).\n",
    "\"\"\""
   ]
  },
  {
   "cell_type": "markdown",
   "metadata": {},
   "source": [
    "## Final Task: Collect all the results\n",
    "\n",
    "Uncomment and run this cell (and all the cells above) to generate the text file that you have to hand in together with the notebook on canvas!\n",
    "\n",
    "### Please hand in only the text file which is generated by this method!"
   ]
  },
  {
   "cell_type": "code",
   "execution_count": 18,
   "metadata": {},
   "outputs": [],
   "source": [
    "import inspect\n",
    "source_cjpd = inspect.getsource(computeJPD)\n",
    "source_bayes_theorem= inspect.getsource(bayes_theorem)\n",
    "\n",
    "def exportToText(*args):\n",
    "    with open(args[0], \"w\") as f:\n",
    "        for argument in args:\n",
    "            f.write(\"{}\\n\".format(argument))\n",
    "\n",
    "exportToText(\"assignment8.txt\", source_cjpd,source_bayes_theorem, MyReport1)"
   ]
  }
 ],
 "metadata": {
  "kernelspec": {
   "display_name": "Python 3",
   "language": "python",
   "name": "python3"
  },
  "language_info": {
   "codemirror_mode": {
    "name": "ipython",
    "version": 3
   },
   "file_extension": ".py",
   "mimetype": "text/x-python",
   "name": "python",
   "nbconvert_exporter": "python",
   "pygments_lexer": "ipython3",
   "version": "3.11.6"
  }
 },
 "nbformat": 4,
 "nbformat_minor": 4
}
