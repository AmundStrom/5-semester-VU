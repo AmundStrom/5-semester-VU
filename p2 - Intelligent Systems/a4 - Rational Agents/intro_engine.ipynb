{
  "cells": [
    {
      "cell_type": "markdown",
      "metadata": {
        "id": "PiCFh5nd1g08"
      },
      "source": [
        "# Intelligent Systems 2023: 4th practical assignment\n",
        "\n",
        "## The Schnapsen Engine\n",
        "\n",
        "Your name: Amund Strøm\n",
        "\n",
        "Your VUnetID: ast101\n",
        "\n",
        "If you do not provide your name and VUnetID we will not accept your submission.\n",
        "\n",
        "### Learning objectives\n",
        "\n",
        "At the end of this exercise you should be able to use the Schnapsen platform, run basic games between agents, and run tournaments in order to evaluate rational agents (also called bots).\n",
        "\n",
        "1. Understand the main functionality of the Schnapsen platform (playing games and running tournements)\n",
        "2. Implement your own rational agents (bots)\n",
        "\n",
        "### Practicalities\n",
        "\n",
        "Follow this Notebook step-by-step.\n",
        "\n",
        "Of course, you can do the exercises in any Programming Editor of your liking. But you do not have to. Feel free to simply write code in the Notebook. Please use your studentID+Assignment4.ipynb as the name of the Notebook.\n",
        "\n",
        "Note: unlike the courses dedicated to programming we will not evaluate the style of the programs. But we will, however, test your programs on other data that we provide, and your program should give the correct output to the test-data as well.\n",
        "\n",
        "As was mentioned, the assignment is graded as pass/fail. To pass you need to have either a full working code or an explanation of what you tried and what didn't work for the tasks that you were unable to complete (you can use multi-line comments or a text cell).\n",
        "\n",
        "## Initialising\n",
        "\n",
        "First, we have to install the schnapsen python package.\n",
        "Run the below code cell.\n",
        "After running the cell, you have the schnapsen Github repository cloned in your current directory.\n",
        "You can find the new directory created with the name `schnapsen`.\n",
        "The detailed installation instructions can be found in the [README.md](https://github.com/intelligent-systems-course/schnapsen) of the repo."
      ]
    },
    {
      "cell_type": "code",
      "execution_count": 8,
      "metadata": {
        "id": "-pLcmcbO1g1A",
        "outputId": "a7f4e04f-90eb-4c85-c76b-630466bbdd54"
      },
      "outputs": [],
      "source": [
        "#!rm -rf schnapsen && git clone https://github.com/intelligent-systems-course/schnapsen && cd schnapsen && pip install -e . && cd .."
      ]
    },
    {
      "cell_type": "markdown",
      "metadata": {
        "id": "EqUxNBDB1g1D"
      },
      "source": [
        "**You have to restart the kernel so that the Jupyter Notebook knows that it's installed.**"
      ]
    },
    {
      "cell_type": "markdown",
      "metadata": {
        "id": "bsLlvqON1g1E"
      },
      "source": [
        "Now that the schnapsen package is installed, we can import the package, along with the other necessary packages."
      ]
    },
    {
      "cell_type": "code",
      "execution_count": 9,
      "metadata": {
        "id": "GucFiWhI1g1E"
      },
      "outputs": [],
      "source": [
        "import random\n",
        "\n",
        "from schnapsen.bots import RandBot, RdeepBot, MyBot\n",
        "from bully_bot import BullyBot  # This bot is in this assignment directory.\n",
        "from schnapsen.game import SchnapsenGamePlayEngine"
      ]
    },
    {
      "cell_type": "markdown",
      "metadata": {
        "id": "jvI7dE0g1g1E"
      },
      "source": [
        "## Playing the first games\n",
        "\n",
        "The basic engine comes with three basic bots: rand, bully and rdeep (the rest you can ignore for now).\n"
      ]
    },
    {
      "cell_type": "code",
      "execution_count": 10,
      "metadata": {
        "id": "odyy2_Pe1g1F",
        "outputId": "3c27d62a-a155-4f0e-b6fa-70e9499c874b"
      },
      "outputs": [
        {
          "name": "stdout",
          "output_type": "stream",
          "text": [
            "Game ended. Winner is bullybot with 2 points and Score(direct_points=75, pending_points=0)\n"
          ]
        }
      ],
      "source": [
        "engine = SchnapsenGamePlayEngine()\n",
        "# choose the players\n",
        "bot1 = RandBot(rand=random.Random(42), name=\"randbot\")\n",
        "bot2 = BullyBot(rand=random.Random(43), name=\"bullybot\")\n",
        "winner_id, game_points, score = engine.play_game(bot1, bot2, random.Random(44))\n",
        "print(f\"Game ended. Winner is {winner_id} with {game_points} points and {score}\")"
      ]
    },
    {
      "cell_type": "markdown",
      "metadata": {
        "id": "YBFJJv3X1g1F"
      },
      "source": [
        "There is a lot of randomness involved in the game when the cards are distributed to the players and the pile. To get an accurate sense of whether one player is better than another, you'll need to play a number of different games. The following code will play a tournament between bully and rand where every pair of participants plays 10 matches.\n",
        "\n",
        "We can fix the randomness by specifying a pseudorandom number generator, e.g., `rand=random.Random(42)`. The seed number 42 here, for example, is used to initialize the pseudorandom number generator."
      ]
    },
    {
      "cell_type": "code",
      "execution_count": 11,
      "metadata": {
        "id": "DUiZZy5k1g1F",
        "outputId": "13aba715-a16f-4c01-bd08-157de9a5e4e5"
      },
      "outputs": [
        {
          "name": "stdout",
          "output_type": "stream",
          "text": [
            "Playing 10 games:\n",
            "Played 1 out of 10 games (10%): {'randbot': 0, 'mybot': 2} \n",
            "Played 2 out of 10 games (20%): {'randbot': 0, 'mybot': 3} \n",
            "Played 3 out of 10 games (30%): {'randbot': 1, 'mybot': 3} \n",
            "Played 4 out of 10 games (40%): {'randbot': 1, 'mybot': 5} \n",
            "Played 5 out of 10 games (50%): {'randbot': 2, 'mybot': 5} \n",
            "Played 6 out of 10 games (60%): {'randbot': 3, 'mybot': 5} \n",
            "Played 7 out of 10 games (70%): {'randbot': 4, 'mybot': 5} \n",
            "Played 8 out of 10 games (80%): {'randbot': 4, 'mybot': 8} \n",
            "Played 9 out of 10 games (90%): {'randbot': 5, 'mybot': 8} \n",
            "Played 10 out of 10 games (100%): {'randbot': 5, 'mybot': 10} \n"
          ]
        }
      ],
      "source": [
        "myrepeats = 10\n",
        "\n",
        "# Create bots.\n",
        "bot1 = RdeepBot(num_samples=10, depth=5, rand=random.Random(41), name=\"rdeepbot\")\n",
        "bot2 = RandBot(rand=random.Random(42), name=\"randbot\")\n",
        "bot3 = BullyBot(rand=random.Random(43), name=\"bullybot\")\n",
        "bot4 = MyBot(rand=random.Random(44), name=\"mybot\")\n",
        "\n",
        "bots = [bot2, bot4]\n",
        "n = len(bots)\n",
        "wins = {str(bot): 0 for bot in bots}\n",
        "matches = [(p1, p2) for p1 in range(n) for p2 in range(n) if p1 < p2]\n",
        "\n",
        "totalgames = (n * n - n) / 2 * myrepeats\n",
        "playedgames = 0\n",
        "\n",
        "print(\"Playing {} games:\".format(int(totalgames)))\n",
        "for a, b in matches:\n",
        "    for r in range(myrepeats):\n",
        "        if random.choice([True, False]):\n",
        "            p = [a, b]\n",
        "        else:\n",
        "            p = [b, a]\n",
        "\n",
        "        winner_id, game_points, score = engine.play_game(\n",
        "            bots[p[0]], bots[p[1]], random.Random(45)\n",
        "        )\n",
        "\n",
        "        wins[str(winner_id)] += game_points\n",
        "\n",
        "        playedgames += 1\n",
        "        print(\n",
        "            \"Played {} out of {:.0f} games ({:.0f}%): {} \\r\".format(\n",
        "                playedgames, totalgames, playedgames / float(totalgames) * 100, wins\n",
        "            )\n",
        "        )"
      ]
    },
    {
      "cell_type": "markdown",
      "metadata": {
        "id": "u3HRW2rB1g1G"
      },
      "source": [
        "### Task 1:\n",
        "\n",
        "The previous code runs a tournament between rand and bully, but you can adapt the script by testing the performance of these bots with the third default bot, rdeep, as the opponent. The general idea of rdeep was extensively discussed under the header PIMS (Perfect Information Monte Carlo Sampling). Report in the following Cell on the results you get from two-player tournaments including rdeep, rand and bully (rdeep vs. rand; rdeep vs. bully). Describe which games you played, and who won.\n",
        "\n",
        "_Hint: You only have to add one single line of code._\n"
      ]
    },
    {
      "cell_type": "code",
      "execution_count": 12,
      "metadata": {
        "id": "4-X91teH1g1G"
      },
      "outputs": [],
      "source": [
        "Report1 = \"\"\"\n",
        "The RdeepBot was defined using these parameters: \"num_samples=10, depth=5, rand=random.Random(41)\". In both tournaments (rdeep vs. rand; rdeep vs. bully), RdeepBot won every\n",
        "single game, even playing the 10 games several times.\n",
        "\"\"\""
      ]
    },
    {
      "cell_type": "markdown",
      "metadata": {
        "id": "UGfWeUbj1g1G"
      },
      "source": [
        "### Task 2:\n",
        "\n",
        "The previous code runs a tournament between two bots only, but you can easily adapt the script above to play round-robin tournament. All you have to do is to add a third player to the bots list. Report in the following Cell on the results you get from three-player tournament including rdeep, rand and bully. Add the (non-verbose) output of the script. Report on the results of the tournament and try to explain in your own words what do the results mean.\n",
        "\n",
        "_Hint: You only have to adapt one additional line of code._\n"
      ]
    },
    {
      "cell_type": "code",
      "execution_count": 13,
      "metadata": {
        "id": "UNScXjX11g1H"
      },
      "outputs": [],
      "source": [
        "Report2 = \"\"\"\n",
        "{'rdeepbot': 13, 'randbot': 0, 'bullybot': 0} - 5 games played\n",
        "{'rdeepbot': 23, 'randbot': 0, 'bullybot': 0} - 10 games played\n",
        "{'rdeepbot': 29, 'randbot': 0, 'bullybot': 0} - 15 games played\n",
        "{'rdeepbot': 36, 'randbot': 0, 'bullybot': 0} - 20 games played\n",
        "{'rdeepbot': 36, 'randbot': 3, 'bullybot': 6} - 25 games played\n",
        "{'rdeepbot': 36, 'randbot': 8, 'bullybot': 7} - 30 games played\n",
        "\n",
        "RdeepBot won the majoirty of the games, but after game 20 it looks like it stopped winning. This is because the games are played 1 versus 1, hence RdeepBot played the\n",
        "first 20 games and did not play the last 10 games.\n",
        "\"\"\""
      ]
    },
    {
      "cell_type": "markdown",
      "metadata": {
        "id": "git5M_Fr1g1H"
      },
      "source": [
        "## Inspecting the code\n"
      ]
    },
    {
      "cell_type": "markdown",
      "metadata": {
        "id": "-CsWDaJX1g1H"
      },
      "source": [
        "Now let's have a look at how the bots work, by inspecting the schnapsen repository that you have cloned.\n",
        "\n",
        "Let's open [`./schnapsen/src/schnapsen/bots/rand.py`](./schnapsen/src/schnapsen/bots/rand.py)\n",
        "\n",
        "We will use more advanced features of Python than what you have seen so far in Introduction to Python (don’t worry), [so for more details have a look here](https://www.learnpython.org/en/Classes_and_Objects).\n",
        "\n",
        "The rand bot contains nothing but a constructor `__init__()` and one method `get_move()`.\n",
        "\n",
        "These are the only things you have to implement to get a working bot.\n",
        "\n",
        "The constructor `__init__()` requires two arguments: `rand` and `name`.\n",
        "`rand`is to fix the randomness, as explained above, and `name` is the name you want to give to your bot.\n",
        "\n",
        "The method `get_move()` takes two arguments `state` and `leader_move`.\n",
        "`state` is an instance of `PlayerPerspective`, which is the current \"state\" of the Bot.\n",
        "`leader_move` is an instance of `Move`, which is the move that the opponent has made.\n",
        "This is an optinal argument for `RandBot`, since it does not account for the move that the opponent has made.\n",
        "This method chooses a valid move uniformly at random from the list of moves, and return that move.\n",
        "A move can be something like `RegularMove(card=Card.ACE_HEARTS)`.\n",
        "\n",
        "Take a look at `class Move` in [`./schnapsen/src/schnapsen/game.py`](./schnapsen/src/schnapsen/game.py)"
      ]
    },
    {
      "cell_type": "markdown",
      "metadata": {
        "id": "i3mbSKOD1g1H"
      },
      "source": [
        "### [`bully_bot.py`](bully_bot.py)\n",
        "\n",
        "This file can be found locally."
      ]
    },
    {
      "cell_type": "markdown",
      "metadata": {
        "id": "0mJzTj1B1g1H"
      },
      "source": [
        "Bully is a deterministic bot: given the same state it will always do the same thing. We've removed part of the explanation from the comments.\n",
        "\n",
        "### Task 3:\n",
        "\n",
        "Have a look at the code: describe in your own words what strategy does the bully bot use?"
      ]
    },
    {
      "cell_type": "code",
      "execution_count": 14,
      "metadata": {
        "id": "EOKSVZh91g1H"
      },
      "outputs": [],
      "source": [
        "Report3 = \"\"\"\n",
        "The bully bot has 3 possible ways of determening what card it wants to play, and chooses in given order:\n",
        "    - Play random trump card if it has it\n",
        "    - Play random card of the current suit if the bot is a follower of a trick\n",
        "    - Play card with the highest score\n",
        "It will always go through these same steps, it checks if it can preform either step 1 or 2, if both fails it will play the highest value card.\n",
        "\"\"\""
      ]
    },
    {
      "cell_type": "markdown",
      "metadata": {
        "id": "r_E8Jmns1g1I"
      },
      "source": [
        "### [`./schnapsen/src/schnapsen/bots/rdeep.py`](./schnapsen/src/schnapsen/bots/rdeep.py)\n",
        "\n",
        "The lectures discuss the hill-climbing strategy: look one move ahead and pick the move that leads to the best heuristic. The heuristics we use is the ratio of the player points w.r.t. to the total points currently assigned in the game. The higher this value, the better the state is for us. Imagine doing hill-climbing with this heuristic. This strategy would not work here. Why not?\n",
        "\n",
        "In order to avoid this issue, we need to look further ahead than the hill climbing strategy does. rdeep.py does this in the simplest way we could think of. Make eight random moves and look at the value of the resulting state. Do this a few times and average the values found. This method is called Perfect-Information Monte-Carlo Sampling (PIMC).\n",
        "\n",
        "You just ran a tournament between rdeep and the other two bots. Most likely, rdeep will have won a few more games. But does the difference really mean rdeep is better? It might just be that rdeep is no better than rand and won by pure luck."
      ]
    },
    {
      "cell_type": "markdown",
      "metadata": {
        "id": "uo4Q_3il1g1I"
      },
      "source": [
        "\n",
        "### Task 4\n",
        "\n",
        "If you wanted to provide scientific evidence that rdeep is better than rand, how would you go about it?"
      ]
    },
    {
      "cell_type": "code",
      "execution_count": 15,
      "metadata": {
        "id": "W4jWqBVT1g1I"
      },
      "outputs": [],
      "source": [
        "Report4 = \"\"\"\n",
        "If i would give scientific evidence that rdeep is better than rand, i would provide statistics about thousands of games which shows who won. Most likley rdeep will win the\n",
        "majority of games, but there is a scenario that by pure chance rand will win. But this scenario is most likley very rare which makes rand very inconsistent, therefore rdeep\n",
        "would be the preffered choice since it is more consistent.\n",
        "\"\"\""
      ]
    },
    {
      "cell_type": "markdown",
      "metadata": {
        "id": "R_NyqRuH1g1I"
      },
      "source": [
        "### `mybot.py`\n",
        "\n",
        "It's time to write your own bot. Think of a simple strategy that is easy to implement. To create the bot follow these steps:\n",
        "\n",
        "1. Go to the directory `./schnapsen/src/schnapsen/bots/`\n",
        "2. Make your bot file, e.g., `mybot.py`\n",
        "3. `mybot.py` should include importing packages, class name, and its methods. If you forgot how to do them. Take a look at [`./schnapsen/src/schnapsen/bots/rand.py`](./schnapsen/src/schnapsen/bots/rand.py) again. Remember that your job is to write the constructor `__init__()` and method `get_move()`. Be creative.\n",
        "4. Open [`./schnapsen/src/schnapsen/bots/__init__.py`](./schnapsen/src/schnapsen/bots/__init__.py). You have to add your bot so that the schnapsen package knows that you have made your own bot. The code is self-explanatory\n",
        "\n",
        "\n",
        "If your bot has parameters (like a search depth, or a pre-programmed probability of doing nothing) you can add these to the constructor.\n",
        "\n",
        "It's always a good practice to read README and docstrings of the schnapsen package that you have cloned to understand how it works.\n",
        "\n",
        "### Task 5\n",
        "\n",
        "Add your implementation of `get_move()` and the result of a tournament against randbot to your report.\n",
        "\n",
        "Please write your code here (in raw text, to avoid an error), as well as the results in the following cell:\n"
      ]
    },
    {
      "cell_type": "markdown",
      "metadata": {
        "id": "ybIr3rT41g1I"
      },
      "source": [
        "You had to follow the steps above to have `mybot.py`. Then you would want to tweek the code of rand or do something entirely new. It didn't have to be the case that it wins more than any of the bots, just that it was a new implementation."
      ]
    },
    {
      "cell_type": "code",
      "execution_count": 16,
      "metadata": {
        "id": "t80UMHY01g1I"
      },
      "outputs": [],
      "source": [
        "MyMove1 =\"\"\"\n",
        "My bot will play a random card that is not of the same suit that it played last time. For the first play it will just play a random card.\n",
        "\n",
        "\n",
        "\n",
        "import random\n",
        "from typing import Optional\n",
        "from schnapsen.game import Bot, PlayerPerspective, Move, SchnapsenTrickScorer, RegularMove\n",
        "from schnapsen.deck import Card, Suit\n",
        "\n",
        "\n",
        "class MyBot(Bot):\n",
        "    def __init__(self, rand: random.Random, name: Optional[str] = None) -> None:\n",
        "        super().__init__(name)\n",
        "        self.rng = rand\n",
        "        self.prev_suit: Suit = None\n",
        "\n",
        "    def get_move(self, perspective: PlayerPerspective, leader_move: Optional[Move], ) -> Move:\n",
        "        moves: list[Move] = perspective.valid_moves()\n",
        "\n",
        "        if self.prev_suit != None:\n",
        "            new_suit: list[Move] = []\n",
        "\n",
        "            # get suit of every card in valid moves, that is not equal to the previous played suit by this bot\n",
        "            for move in moves:\n",
        "                cards_of_move: list[Card] = move.cards\n",
        "                card_of_move: Card = cards_of_move[0]\n",
        "\n",
        "                if card_of_move.suit != self.prev_suit:\n",
        "                    new_suit.append(move)\n",
        "\n",
        "            # Choose a random card\n",
        "            if len(new_suit) > 0:\n",
        "                move = self.rng.choice(new_suit)\n",
        "                self.remember_suit(move)\n",
        "                return move\n",
        "                \n",
        "        # Make a random move\n",
        "        move = self.rng.choice(moves)\n",
        "        self.remember_suit(move)\n",
        "        return move\n",
        "\n",
        "    def remember_suit(self, move):\n",
        "        '''\n",
        "        Remeber the suit that will be played\n",
        "        '''\n",
        "        cards_of_move: list[Card] = move.cards\n",
        "        card_of_move: Card = cards_of_move[0]\n",
        "\n",
        "        self.prev_suit = card_of_move.suit\n",
        "\n",
        "Playing 10 games:\n",
        "{'randbot': 2, 'mybot': 0} \n",
        "{'randbot': 3, 'mybot': 0} \n",
        "{'randbot': 3, 'mybot': 1} \n",
        "{'randbot': 3, 'mybot': 2} \n",
        "{'randbot': 4, 'mybot': 2} \n",
        "{'randbot': 6, 'mybot': 2} \n",
        "{'randbot': 6, 'mybot': 5} \n",
        "{'randbot': 6, 'mybot': 8} \n",
        "{'randbot': 7, 'mybot': 8} \n",
        "{'randbot': 7, 'mybot': 10} \n",
        "\n",
        "\"\"\""
      ]
    },
    {
      "cell_type": "markdown",
      "metadata": {
        "id": "2efXrg3t1g1I"
      },
      "source": [
        "## Final Task: Collect all the results\n",
        "\n",
        "Uncomment and run this cell (and all the cells above) to generate the text file that you have to hand in together with the notebook on canvas!\n",
        "\n",
        "### Please hand in only the text file which is generated by this method!\n"
      ]
    },
    {
      "cell_type": "code",
      "execution_count": 17,
      "metadata": {
        "id": "YNN-7mBQ1g1I"
      },
      "outputs": [],
      "source": [
        "def exportToText(*args):\n",
        "    with open(args[0], \"w\") as f:\n",
        "        for argument in args:\n",
        "            f.write(\"{}\\n\".format(argument))\n",
        "\n",
        "\n",
        "exportToText(\"assignment4.txt\", Report1, Report2, Report3, Report4, MyMove1)"
      ]
    }
  ],
  "metadata": {
    "colab": {
      "provenance": []
    },
    "kernelspec": {
      "display_name": "Python 3",
      "language": "python",
      "name": "python3"
    },
    "language_info": {
      "codemirror_mode": {
        "name": "ipython",
        "version": 3
      },
      "file_extension": ".py",
      "mimetype": "text/x-python",
      "name": "python",
      "nbconvert_exporter": "python",
      "pygments_lexer": "ipython3",
      "version": "3.11.6"
    }
  },
  "nbformat": 4,
  "nbformat_minor": 0
}
